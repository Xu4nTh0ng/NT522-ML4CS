{
  "nbformat": 4,
  "nbformat_minor": 0,
  "metadata": {
    "colab": {
      "provenance": [],
      "collapsed_sections": [
        "D2Avlx2VJOdj",
        "buoLMxJIP-x4"
      ]
    },
    "kernelspec": {
      "name": "python3",
      "display_name": "Python 3"
    },
    "language_info": {
      "name": "python"
    }
  },
  "cells": [
    {
      "cell_type": "markdown",
      "source": [
        "# câu 1: ví dụ về cộng trừ 2 ma trận"
      ],
      "metadata": {
        "id": "D2Avlx2VJOdj"
      }
    },
    {
      "cell_type": "code",
      "source": [
        "import numpy as np\n",
        "_a = [ [ 1, 2, 3 ], [ 4, 5, 6 ] ]\n",
        "_b = [ [ 2, 3, 5], [7, 9, 21] ]\n",
        "a = np.array(_a) # create matrix a\n",
        "b = np.array(_b) # create matrix b\n",
        "print(np.add(a, b)) # Add \n",
        "print(np.subtract(a, b)) # Sub\n",
        "print(a + b) # Add \n",
        "print(a - b) # Sub\n"
      ],
      "metadata": {
        "colab": {
          "base_uri": "https://localhost:8080/"
        },
        "id": "oRXGYkptP9AQ",
        "outputId": "f42946ea-096b-4deb-e15f-59d50a91d156"
      },
      "execution_count": null,
      "outputs": [
        {
          "output_type": "stream",
          "name": "stdout",
          "text": [
            "[[ 3  5  8]\n",
            " [11 14 27]]\n",
            "[[ -1  -1  -2]\n",
            " [ -3  -4 -15]]\n",
            "[[ 3  5  8]\n",
            " [11 14 27]]\n",
            "[[ -1  -1  -2]\n",
            " [ -3  -4 -15]]\n"
          ]
        }
      ]
    },
    {
      "cell_type": "markdown",
      "source": [
        "# Câu 2: dùng pandas xử lý yêu cầucầu"
      ],
      "metadata": {
        "id": "buoLMxJIP-x4"
      }
    },
    {
      "cell_type": "markdown",
      "source": [
        "* Đọc CSV thành Dataframe và hiển thị\n",
        "* Hãy chuyển index mặc định thành giá trị cột id"
      ],
      "metadata": {
        "id": "aoG-UMsIRm2c"
      }
    },
    {
      "cell_type": "code",
      "source": [
        "import pandas as pd\n",
        "df = pd.read_csv('drive/MyDrive/ML/pandaEXCEL.csv') # load file csv\n",
        "df.head()\n",
        "df_setid = df.set_index('ID')          \n",
        "df_setid.head()"
      ],
      "metadata": {
        "colab": {
          "base_uri": "https://localhost:8080/",
          "height": 238
        },
        "id": "8kjCkZl6QHHQ",
        "outputId": "88bab78e-565d-42e5-eca0-565640635f57"
      },
      "execution_count": null,
      "outputs": [
        {
          "output_type": "execute_result",
          "data": {
            "text/plain": [
              "     X   Y   Z\n",
              "ID            \n",
              "1   78  84  86\n",
              "2   85  94  97\n",
              "3   80  83  73\n",
              "4   96  94  96\n",
              "5   86  86  83"
            ],
            "text/html": [
              "\n",
              "  <div id=\"df-734e000e-1cd2-4f8d-88e8-680bac95350b\">\n",
              "    <div class=\"colab-df-container\">\n",
              "      <div>\n",
              "<style scoped>\n",
              "    .dataframe tbody tr th:only-of-type {\n",
              "        vertical-align: middle;\n",
              "    }\n",
              "\n",
              "    .dataframe tbody tr th {\n",
              "        vertical-align: top;\n",
              "    }\n",
              "\n",
              "    .dataframe thead th {\n",
              "        text-align: right;\n",
              "    }\n",
              "</style>\n",
              "<table border=\"1\" class=\"dataframe\">\n",
              "  <thead>\n",
              "    <tr style=\"text-align: right;\">\n",
              "      <th></th>\n",
              "      <th>X</th>\n",
              "      <th>Y</th>\n",
              "      <th>Z</th>\n",
              "    </tr>\n",
              "    <tr>\n",
              "      <th>ID</th>\n",
              "      <th></th>\n",
              "      <th></th>\n",
              "      <th></th>\n",
              "    </tr>\n",
              "  </thead>\n",
              "  <tbody>\n",
              "    <tr>\n",
              "      <th>1</th>\n",
              "      <td>78</td>\n",
              "      <td>84</td>\n",
              "      <td>86</td>\n",
              "    </tr>\n",
              "    <tr>\n",
              "      <th>2</th>\n",
              "      <td>85</td>\n",
              "      <td>94</td>\n",
              "      <td>97</td>\n",
              "    </tr>\n",
              "    <tr>\n",
              "      <th>3</th>\n",
              "      <td>80</td>\n",
              "      <td>83</td>\n",
              "      <td>73</td>\n",
              "    </tr>\n",
              "    <tr>\n",
              "      <th>4</th>\n",
              "      <td>96</td>\n",
              "      <td>94</td>\n",
              "      <td>96</td>\n",
              "    </tr>\n",
              "    <tr>\n",
              "      <th>5</th>\n",
              "      <td>86</td>\n",
              "      <td>86</td>\n",
              "      <td>83</td>\n",
              "    </tr>\n",
              "  </tbody>\n",
              "</table>\n",
              "</div>\n",
              "      <button class=\"colab-df-convert\" onclick=\"convertToInteractive('df-734e000e-1cd2-4f8d-88e8-680bac95350b')\"\n",
              "              title=\"Convert this dataframe to an interactive table.\"\n",
              "              style=\"display:none;\">\n",
              "        \n",
              "  <svg xmlns=\"http://www.w3.org/2000/svg\" height=\"24px\"viewBox=\"0 0 24 24\"\n",
              "       width=\"24px\">\n",
              "    <path d=\"M0 0h24v24H0V0z\" fill=\"none\"/>\n",
              "    <path d=\"M18.56 5.44l.94 2.06.94-2.06 2.06-.94-2.06-.94-.94-2.06-.94 2.06-2.06.94zm-11 1L8.5 8.5l.94-2.06 2.06-.94-2.06-.94L8.5 2.5l-.94 2.06-2.06.94zm10 10l.94 2.06.94-2.06 2.06-.94-2.06-.94-.94-2.06-.94 2.06-2.06.94z\"/><path d=\"M17.41 7.96l-1.37-1.37c-.4-.4-.92-.59-1.43-.59-.52 0-1.04.2-1.43.59L10.3 9.45l-7.72 7.72c-.78.78-.78 2.05 0 2.83L4 21.41c.39.39.9.59 1.41.59.51 0 1.02-.2 1.41-.59l7.78-7.78 2.81-2.81c.8-.78.8-2.07 0-2.86zM5.41 20L4 18.59l7.72-7.72 1.47 1.35L5.41 20z\"/>\n",
              "  </svg>\n",
              "      </button>\n",
              "      \n",
              "  <style>\n",
              "    .colab-df-container {\n",
              "      display:flex;\n",
              "      flex-wrap:wrap;\n",
              "      gap: 12px;\n",
              "    }\n",
              "\n",
              "    .colab-df-convert {\n",
              "      background-color: #E8F0FE;\n",
              "      border: none;\n",
              "      border-radius: 50%;\n",
              "      cursor: pointer;\n",
              "      display: none;\n",
              "      fill: #1967D2;\n",
              "      height: 32px;\n",
              "      padding: 0 0 0 0;\n",
              "      width: 32px;\n",
              "    }\n",
              "\n",
              "    .colab-df-convert:hover {\n",
              "      background-color: #E2EBFA;\n",
              "      box-shadow: 0px 1px 2px rgba(60, 64, 67, 0.3), 0px 1px 3px 1px rgba(60, 64, 67, 0.15);\n",
              "      fill: #174EA6;\n",
              "    }\n",
              "\n",
              "    [theme=dark] .colab-df-convert {\n",
              "      background-color: #3B4455;\n",
              "      fill: #D2E3FC;\n",
              "    }\n",
              "\n",
              "    [theme=dark] .colab-df-convert:hover {\n",
              "      background-color: #434B5C;\n",
              "      box-shadow: 0px 1px 3px 1px rgba(0, 0, 0, 0.15);\n",
              "      filter: drop-shadow(0px 1px 2px rgba(0, 0, 0, 0.3));\n",
              "      fill: #FFFFFF;\n",
              "    }\n",
              "  </style>\n",
              "\n",
              "      <script>\n",
              "        const buttonEl =\n",
              "          document.querySelector('#df-734e000e-1cd2-4f8d-88e8-680bac95350b button.colab-df-convert');\n",
              "        buttonEl.style.display =\n",
              "          google.colab.kernel.accessAllowed ? 'block' : 'none';\n",
              "\n",
              "        async function convertToInteractive(key) {\n",
              "          const element = document.querySelector('#df-734e000e-1cd2-4f8d-88e8-680bac95350b');\n",
              "          const dataTable =\n",
              "            await google.colab.kernel.invokeFunction('convertToInteractive',\n",
              "                                                     [key], {});\n",
              "          if (!dataTable) return;\n",
              "\n",
              "          const docLinkHtml = 'Like what you see? Visit the ' +\n",
              "            '<a target=\"_blank\" href=https://colab.research.google.com/notebooks/data_table.ipynb>data table notebook</a>'\n",
              "            + ' to learn more about interactive tables.';\n",
              "          element.innerHTML = '';\n",
              "          dataTable['output_type'] = 'display_data';\n",
              "          await google.colab.output.renderOutput(dataTable, element);\n",
              "          const docLink = document.createElement('div');\n",
              "          docLink.innerHTML = docLinkHtml;\n",
              "          element.appendChild(docLink);\n",
              "        }\n",
              "      </script>\n",
              "    </div>\n",
              "  </div>\n",
              "  "
            ]
          },
          "metadata": {},
          "execution_count": 10
        }
      ]
    },
    {
      "cell_type": "markdown",
      "source": [
        "* Sắp xếp dữ liễu theo nhiều cột (sort)"
      ],
      "metadata": {
        "id": "9LlRWMjHR0eC"
      }
    },
    {
      "cell_type": "code",
      "source": [
        "df.sort_values(by=['X'])"
      ],
      "metadata": {
        "colab": {
          "base_uri": "https://localhost:8080/",
          "height": 206
        },
        "id": "WiKSTORURcjJ",
        "outputId": "238f6a4d-c8c1-4b8a-f7f1-cfe4ef83ca1d"
      },
      "execution_count": null,
      "outputs": [
        {
          "output_type": "execute_result",
          "data": {
            "text/plain": [
              "   ID   X   Y   Z\n",
              "0   1  78  84  86\n",
              "2   3  80  83  73\n",
              "1   2  85  94  97\n",
              "4   5  86  86  83\n",
              "3   4  96  94  96"
            ],
            "text/html": [
              "\n",
              "  <div id=\"df-f972c839-841e-4c06-b187-a6835f3ec50a\">\n",
              "    <div class=\"colab-df-container\">\n",
              "      <div>\n",
              "<style scoped>\n",
              "    .dataframe tbody tr th:only-of-type {\n",
              "        vertical-align: middle;\n",
              "    }\n",
              "\n",
              "    .dataframe tbody tr th {\n",
              "        vertical-align: top;\n",
              "    }\n",
              "\n",
              "    .dataframe thead th {\n",
              "        text-align: right;\n",
              "    }\n",
              "</style>\n",
              "<table border=\"1\" class=\"dataframe\">\n",
              "  <thead>\n",
              "    <tr style=\"text-align: right;\">\n",
              "      <th></th>\n",
              "      <th>ID</th>\n",
              "      <th>X</th>\n",
              "      <th>Y</th>\n",
              "      <th>Z</th>\n",
              "    </tr>\n",
              "  </thead>\n",
              "  <tbody>\n",
              "    <tr>\n",
              "      <th>0</th>\n",
              "      <td>1</td>\n",
              "      <td>78</td>\n",
              "      <td>84</td>\n",
              "      <td>86</td>\n",
              "    </tr>\n",
              "    <tr>\n",
              "      <th>2</th>\n",
              "      <td>3</td>\n",
              "      <td>80</td>\n",
              "      <td>83</td>\n",
              "      <td>73</td>\n",
              "    </tr>\n",
              "    <tr>\n",
              "      <th>1</th>\n",
              "      <td>2</td>\n",
              "      <td>85</td>\n",
              "      <td>94</td>\n",
              "      <td>97</td>\n",
              "    </tr>\n",
              "    <tr>\n",
              "      <th>4</th>\n",
              "      <td>5</td>\n",
              "      <td>86</td>\n",
              "      <td>86</td>\n",
              "      <td>83</td>\n",
              "    </tr>\n",
              "    <tr>\n",
              "      <th>3</th>\n",
              "      <td>4</td>\n",
              "      <td>96</td>\n",
              "      <td>94</td>\n",
              "      <td>96</td>\n",
              "    </tr>\n",
              "  </tbody>\n",
              "</table>\n",
              "</div>\n",
              "      <button class=\"colab-df-convert\" onclick=\"convertToInteractive('df-f972c839-841e-4c06-b187-a6835f3ec50a')\"\n",
              "              title=\"Convert this dataframe to an interactive table.\"\n",
              "              style=\"display:none;\">\n",
              "        \n",
              "  <svg xmlns=\"http://www.w3.org/2000/svg\" height=\"24px\"viewBox=\"0 0 24 24\"\n",
              "       width=\"24px\">\n",
              "    <path d=\"M0 0h24v24H0V0z\" fill=\"none\"/>\n",
              "    <path d=\"M18.56 5.44l.94 2.06.94-2.06 2.06-.94-2.06-.94-.94-2.06-.94 2.06-2.06.94zm-11 1L8.5 8.5l.94-2.06 2.06-.94-2.06-.94L8.5 2.5l-.94 2.06-2.06.94zm10 10l.94 2.06.94-2.06 2.06-.94-2.06-.94-.94-2.06-.94 2.06-2.06.94z\"/><path d=\"M17.41 7.96l-1.37-1.37c-.4-.4-.92-.59-1.43-.59-.52 0-1.04.2-1.43.59L10.3 9.45l-7.72 7.72c-.78.78-.78 2.05 0 2.83L4 21.41c.39.39.9.59 1.41.59.51 0 1.02-.2 1.41-.59l7.78-7.78 2.81-2.81c.8-.78.8-2.07 0-2.86zM5.41 20L4 18.59l7.72-7.72 1.47 1.35L5.41 20z\"/>\n",
              "  </svg>\n",
              "      </button>\n",
              "      \n",
              "  <style>\n",
              "    .colab-df-container {\n",
              "      display:flex;\n",
              "      flex-wrap:wrap;\n",
              "      gap: 12px;\n",
              "    }\n",
              "\n",
              "    .colab-df-convert {\n",
              "      background-color: #E8F0FE;\n",
              "      border: none;\n",
              "      border-radius: 50%;\n",
              "      cursor: pointer;\n",
              "      display: none;\n",
              "      fill: #1967D2;\n",
              "      height: 32px;\n",
              "      padding: 0 0 0 0;\n",
              "      width: 32px;\n",
              "    }\n",
              "\n",
              "    .colab-df-convert:hover {\n",
              "      background-color: #E2EBFA;\n",
              "      box-shadow: 0px 1px 2px rgba(60, 64, 67, 0.3), 0px 1px 3px 1px rgba(60, 64, 67, 0.15);\n",
              "      fill: #174EA6;\n",
              "    }\n",
              "\n",
              "    [theme=dark] .colab-df-convert {\n",
              "      background-color: #3B4455;\n",
              "      fill: #D2E3FC;\n",
              "    }\n",
              "\n",
              "    [theme=dark] .colab-df-convert:hover {\n",
              "      background-color: #434B5C;\n",
              "      box-shadow: 0px 1px 3px 1px rgba(0, 0, 0, 0.15);\n",
              "      filter: drop-shadow(0px 1px 2px rgba(0, 0, 0, 0.3));\n",
              "      fill: #FFFFFF;\n",
              "    }\n",
              "  </style>\n",
              "\n",
              "      <script>\n",
              "        const buttonEl =\n",
              "          document.querySelector('#df-f972c839-841e-4c06-b187-a6835f3ec50a button.colab-df-convert');\n",
              "        buttonEl.style.display =\n",
              "          google.colab.kernel.accessAllowed ? 'block' : 'none';\n",
              "\n",
              "        async function convertToInteractive(key) {\n",
              "          const element = document.querySelector('#df-f972c839-841e-4c06-b187-a6835f3ec50a');\n",
              "          const dataTable =\n",
              "            await google.colab.kernel.invokeFunction('convertToInteractive',\n",
              "                                                     [key], {});\n",
              "          if (!dataTable) return;\n",
              "\n",
              "          const docLinkHtml = 'Like what you see? Visit the ' +\n",
              "            '<a target=\"_blank\" href=https://colab.research.google.com/notebooks/data_table.ipynb>data table notebook</a>'\n",
              "            + ' to learn more about interactive tables.';\n",
              "          element.innerHTML = '';\n",
              "          dataTable['output_type'] = 'display_data';\n",
              "          await google.colab.output.renderOutput(dataTable, element);\n",
              "          const docLink = document.createElement('div');\n",
              "          docLink.innerHTML = docLinkHtml;\n",
              "          element.appendChild(docLink);\n",
              "        }\n",
              "      </script>\n",
              "    </div>\n",
              "  </div>\n",
              "  "
            ]
          },
          "metadata": {},
          "execution_count": 11
        }
      ]
    },
    {
      "cell_type": "code",
      "source": [
        "df.sort_values(by=['Y'])"
      ],
      "metadata": {
        "colab": {
          "base_uri": "https://localhost:8080/",
          "height": 206
        },
        "id": "zAO7mmMAeYGV",
        "outputId": "43a4c023-ad96-40cb-c443-bd56959d41ab"
      },
      "execution_count": null,
      "outputs": [
        {
          "output_type": "execute_result",
          "data": {
            "text/plain": [
              "   ID   X   Y   Z\n",
              "2   3  80  83  73\n",
              "0   1  78  84  86\n",
              "4   5  86  86  83\n",
              "1   2  85  94  97\n",
              "3   4  96  94  96"
            ],
            "text/html": [
              "\n",
              "  <div id=\"df-fbb93edd-c8e9-401f-bc48-304a35d812aa\">\n",
              "    <div class=\"colab-df-container\">\n",
              "      <div>\n",
              "<style scoped>\n",
              "    .dataframe tbody tr th:only-of-type {\n",
              "        vertical-align: middle;\n",
              "    }\n",
              "\n",
              "    .dataframe tbody tr th {\n",
              "        vertical-align: top;\n",
              "    }\n",
              "\n",
              "    .dataframe thead th {\n",
              "        text-align: right;\n",
              "    }\n",
              "</style>\n",
              "<table border=\"1\" class=\"dataframe\">\n",
              "  <thead>\n",
              "    <tr style=\"text-align: right;\">\n",
              "      <th></th>\n",
              "      <th>ID</th>\n",
              "      <th>X</th>\n",
              "      <th>Y</th>\n",
              "      <th>Z</th>\n",
              "    </tr>\n",
              "  </thead>\n",
              "  <tbody>\n",
              "    <tr>\n",
              "      <th>2</th>\n",
              "      <td>3</td>\n",
              "      <td>80</td>\n",
              "      <td>83</td>\n",
              "      <td>73</td>\n",
              "    </tr>\n",
              "    <tr>\n",
              "      <th>0</th>\n",
              "      <td>1</td>\n",
              "      <td>78</td>\n",
              "      <td>84</td>\n",
              "      <td>86</td>\n",
              "    </tr>\n",
              "    <tr>\n",
              "      <th>4</th>\n",
              "      <td>5</td>\n",
              "      <td>86</td>\n",
              "      <td>86</td>\n",
              "      <td>83</td>\n",
              "    </tr>\n",
              "    <tr>\n",
              "      <th>1</th>\n",
              "      <td>2</td>\n",
              "      <td>85</td>\n",
              "      <td>94</td>\n",
              "      <td>97</td>\n",
              "    </tr>\n",
              "    <tr>\n",
              "      <th>3</th>\n",
              "      <td>4</td>\n",
              "      <td>96</td>\n",
              "      <td>94</td>\n",
              "      <td>96</td>\n",
              "    </tr>\n",
              "  </tbody>\n",
              "</table>\n",
              "</div>\n",
              "      <button class=\"colab-df-convert\" onclick=\"convertToInteractive('df-fbb93edd-c8e9-401f-bc48-304a35d812aa')\"\n",
              "              title=\"Convert this dataframe to an interactive table.\"\n",
              "              style=\"display:none;\">\n",
              "        \n",
              "  <svg xmlns=\"http://www.w3.org/2000/svg\" height=\"24px\"viewBox=\"0 0 24 24\"\n",
              "       width=\"24px\">\n",
              "    <path d=\"M0 0h24v24H0V0z\" fill=\"none\"/>\n",
              "    <path d=\"M18.56 5.44l.94 2.06.94-2.06 2.06-.94-2.06-.94-.94-2.06-.94 2.06-2.06.94zm-11 1L8.5 8.5l.94-2.06 2.06-.94-2.06-.94L8.5 2.5l-.94 2.06-2.06.94zm10 10l.94 2.06.94-2.06 2.06-.94-2.06-.94-.94-2.06-.94 2.06-2.06.94z\"/><path d=\"M17.41 7.96l-1.37-1.37c-.4-.4-.92-.59-1.43-.59-.52 0-1.04.2-1.43.59L10.3 9.45l-7.72 7.72c-.78.78-.78 2.05 0 2.83L4 21.41c.39.39.9.59 1.41.59.51 0 1.02-.2 1.41-.59l7.78-7.78 2.81-2.81c.8-.78.8-2.07 0-2.86zM5.41 20L4 18.59l7.72-7.72 1.47 1.35L5.41 20z\"/>\n",
              "  </svg>\n",
              "      </button>\n",
              "      \n",
              "  <style>\n",
              "    .colab-df-container {\n",
              "      display:flex;\n",
              "      flex-wrap:wrap;\n",
              "      gap: 12px;\n",
              "    }\n",
              "\n",
              "    .colab-df-convert {\n",
              "      background-color: #E8F0FE;\n",
              "      border: none;\n",
              "      border-radius: 50%;\n",
              "      cursor: pointer;\n",
              "      display: none;\n",
              "      fill: #1967D2;\n",
              "      height: 32px;\n",
              "      padding: 0 0 0 0;\n",
              "      width: 32px;\n",
              "    }\n",
              "\n",
              "    .colab-df-convert:hover {\n",
              "      background-color: #E2EBFA;\n",
              "      box-shadow: 0px 1px 2px rgba(60, 64, 67, 0.3), 0px 1px 3px 1px rgba(60, 64, 67, 0.15);\n",
              "      fill: #174EA6;\n",
              "    }\n",
              "\n",
              "    [theme=dark] .colab-df-convert {\n",
              "      background-color: #3B4455;\n",
              "      fill: #D2E3FC;\n",
              "    }\n",
              "\n",
              "    [theme=dark] .colab-df-convert:hover {\n",
              "      background-color: #434B5C;\n",
              "      box-shadow: 0px 1px 3px 1px rgba(0, 0, 0, 0.15);\n",
              "      filter: drop-shadow(0px 1px 2px rgba(0, 0, 0, 0.3));\n",
              "      fill: #FFFFFF;\n",
              "    }\n",
              "  </style>\n",
              "\n",
              "      <script>\n",
              "        const buttonEl =\n",
              "          document.querySelector('#df-fbb93edd-c8e9-401f-bc48-304a35d812aa button.colab-df-convert');\n",
              "        buttonEl.style.display =\n",
              "          google.colab.kernel.accessAllowed ? 'block' : 'none';\n",
              "\n",
              "        async function convertToInteractive(key) {\n",
              "          const element = document.querySelector('#df-fbb93edd-c8e9-401f-bc48-304a35d812aa');\n",
              "          const dataTable =\n",
              "            await google.colab.kernel.invokeFunction('convertToInteractive',\n",
              "                                                     [key], {});\n",
              "          if (!dataTable) return;\n",
              "\n",
              "          const docLinkHtml = 'Like what you see? Visit the ' +\n",
              "            '<a target=\"_blank\" href=https://colab.research.google.com/notebooks/data_table.ipynb>data table notebook</a>'\n",
              "            + ' to learn more about interactive tables.';\n",
              "          element.innerHTML = '';\n",
              "          dataTable['output_type'] = 'display_data';\n",
              "          await google.colab.output.renderOutput(dataTable, element);\n",
              "          const docLink = document.createElement('div');\n",
              "          docLink.innerHTML = docLinkHtml;\n",
              "          element.appendChild(docLink);\n",
              "        }\n",
              "      </script>\n",
              "    </div>\n",
              "  </div>\n",
              "  "
            ]
          },
          "metadata": {},
          "execution_count": 12
        }
      ]
    },
    {
      "cell_type": "code",
      "source": [
        "df.sort_values(by=['Z'])"
      ],
      "metadata": {
        "colab": {
          "base_uri": "https://localhost:8080/",
          "height": 206
        },
        "id": "UELnXulQeegX",
        "outputId": "e060769d-3548-4b74-ffb5-6a2139a51e46"
      },
      "execution_count": null,
      "outputs": [
        {
          "output_type": "execute_result",
          "data": {
            "text/plain": [
              "   ID   X   Y   Z\n",
              "2   3  80  83  73\n",
              "4   5  86  86  83\n",
              "0   1  78  84  86\n",
              "3   4  96  94  96\n",
              "1   2  85  94  97"
            ],
            "text/html": [
              "\n",
              "  <div id=\"df-5966f709-059d-4a92-9abc-cf6bb172c111\">\n",
              "    <div class=\"colab-df-container\">\n",
              "      <div>\n",
              "<style scoped>\n",
              "    .dataframe tbody tr th:only-of-type {\n",
              "        vertical-align: middle;\n",
              "    }\n",
              "\n",
              "    .dataframe tbody tr th {\n",
              "        vertical-align: top;\n",
              "    }\n",
              "\n",
              "    .dataframe thead th {\n",
              "        text-align: right;\n",
              "    }\n",
              "</style>\n",
              "<table border=\"1\" class=\"dataframe\">\n",
              "  <thead>\n",
              "    <tr style=\"text-align: right;\">\n",
              "      <th></th>\n",
              "      <th>ID</th>\n",
              "      <th>X</th>\n",
              "      <th>Y</th>\n",
              "      <th>Z</th>\n",
              "    </tr>\n",
              "  </thead>\n",
              "  <tbody>\n",
              "    <tr>\n",
              "      <th>2</th>\n",
              "      <td>3</td>\n",
              "      <td>80</td>\n",
              "      <td>83</td>\n",
              "      <td>73</td>\n",
              "    </tr>\n",
              "    <tr>\n",
              "      <th>4</th>\n",
              "      <td>5</td>\n",
              "      <td>86</td>\n",
              "      <td>86</td>\n",
              "      <td>83</td>\n",
              "    </tr>\n",
              "    <tr>\n",
              "      <th>0</th>\n",
              "      <td>1</td>\n",
              "      <td>78</td>\n",
              "      <td>84</td>\n",
              "      <td>86</td>\n",
              "    </tr>\n",
              "    <tr>\n",
              "      <th>3</th>\n",
              "      <td>4</td>\n",
              "      <td>96</td>\n",
              "      <td>94</td>\n",
              "      <td>96</td>\n",
              "    </tr>\n",
              "    <tr>\n",
              "      <th>1</th>\n",
              "      <td>2</td>\n",
              "      <td>85</td>\n",
              "      <td>94</td>\n",
              "      <td>97</td>\n",
              "    </tr>\n",
              "  </tbody>\n",
              "</table>\n",
              "</div>\n",
              "      <button class=\"colab-df-convert\" onclick=\"convertToInteractive('df-5966f709-059d-4a92-9abc-cf6bb172c111')\"\n",
              "              title=\"Convert this dataframe to an interactive table.\"\n",
              "              style=\"display:none;\">\n",
              "        \n",
              "  <svg xmlns=\"http://www.w3.org/2000/svg\" height=\"24px\"viewBox=\"0 0 24 24\"\n",
              "       width=\"24px\">\n",
              "    <path d=\"M0 0h24v24H0V0z\" fill=\"none\"/>\n",
              "    <path d=\"M18.56 5.44l.94 2.06.94-2.06 2.06-.94-2.06-.94-.94-2.06-.94 2.06-2.06.94zm-11 1L8.5 8.5l.94-2.06 2.06-.94-2.06-.94L8.5 2.5l-.94 2.06-2.06.94zm10 10l.94 2.06.94-2.06 2.06-.94-2.06-.94-.94-2.06-.94 2.06-2.06.94z\"/><path d=\"M17.41 7.96l-1.37-1.37c-.4-.4-.92-.59-1.43-.59-.52 0-1.04.2-1.43.59L10.3 9.45l-7.72 7.72c-.78.78-.78 2.05 0 2.83L4 21.41c.39.39.9.59 1.41.59.51 0 1.02-.2 1.41-.59l7.78-7.78 2.81-2.81c.8-.78.8-2.07 0-2.86zM5.41 20L4 18.59l7.72-7.72 1.47 1.35L5.41 20z\"/>\n",
              "  </svg>\n",
              "      </button>\n",
              "      \n",
              "  <style>\n",
              "    .colab-df-container {\n",
              "      display:flex;\n",
              "      flex-wrap:wrap;\n",
              "      gap: 12px;\n",
              "    }\n",
              "\n",
              "    .colab-df-convert {\n",
              "      background-color: #E8F0FE;\n",
              "      border: none;\n",
              "      border-radius: 50%;\n",
              "      cursor: pointer;\n",
              "      display: none;\n",
              "      fill: #1967D2;\n",
              "      height: 32px;\n",
              "      padding: 0 0 0 0;\n",
              "      width: 32px;\n",
              "    }\n",
              "\n",
              "    .colab-df-convert:hover {\n",
              "      background-color: #E2EBFA;\n",
              "      box-shadow: 0px 1px 2px rgba(60, 64, 67, 0.3), 0px 1px 3px 1px rgba(60, 64, 67, 0.15);\n",
              "      fill: #174EA6;\n",
              "    }\n",
              "\n",
              "    [theme=dark] .colab-df-convert {\n",
              "      background-color: #3B4455;\n",
              "      fill: #D2E3FC;\n",
              "    }\n",
              "\n",
              "    [theme=dark] .colab-df-convert:hover {\n",
              "      background-color: #434B5C;\n",
              "      box-shadow: 0px 1px 3px 1px rgba(0, 0, 0, 0.15);\n",
              "      filter: drop-shadow(0px 1px 2px rgba(0, 0, 0, 0.3));\n",
              "      fill: #FFFFFF;\n",
              "    }\n",
              "  </style>\n",
              "\n",
              "      <script>\n",
              "        const buttonEl =\n",
              "          document.querySelector('#df-5966f709-059d-4a92-9abc-cf6bb172c111 button.colab-df-convert');\n",
              "        buttonEl.style.display =\n",
              "          google.colab.kernel.accessAllowed ? 'block' : 'none';\n",
              "\n",
              "        async function convertToInteractive(key) {\n",
              "          const element = document.querySelector('#df-5966f709-059d-4a92-9abc-cf6bb172c111');\n",
              "          const dataTable =\n",
              "            await google.colab.kernel.invokeFunction('convertToInteractive',\n",
              "                                                     [key], {});\n",
              "          if (!dataTable) return;\n",
              "\n",
              "          const docLinkHtml = 'Like what you see? Visit the ' +\n",
              "            '<a target=\"_blank\" href=https://colab.research.google.com/notebooks/data_table.ipynb>data table notebook</a>'\n",
              "            + ' to learn more about interactive tables.';\n",
              "          element.innerHTML = '';\n",
              "          dataTable['output_type'] = 'display_data';\n",
              "          await google.colab.output.renderOutput(dataTable, element);\n",
              "          const docLink = document.createElement('div');\n",
              "          docLink.innerHTML = docLinkHtml;\n",
              "          element.appendChild(docLink);\n",
              "        }\n",
              "      </script>\n",
              "    </div>\n",
              "  </div>\n",
              "  "
            ]
          },
          "metadata": {},
          "execution_count": 13
        }
      ]
    },
    {
      "cell_type": "markdown",
      "source": [
        "* Chọn một cột cụ thể và hiển thị nó"
      ],
      "metadata": {
        "id": "cYxMVKIfR8ig"
      }
    },
    {
      "cell_type": "code",
      "source": [
        "df.Z"
      ],
      "metadata": {
        "colab": {
          "base_uri": "https://localhost:8080/"
        },
        "id": "VRmS0t6ISBQY",
        "outputId": "642e9185-906c-4a63-fd68-0fbed11223ce"
      },
      "execution_count": null,
      "outputs": [
        {
          "output_type": "execute_result",
          "data": {
            "text/plain": [
              "0    86\n",
              "1    97\n",
              "2    73\n",
              "3    96\n",
              "4    83\n",
              "Name: Z, dtype: int64"
            ]
          },
          "metadata": {},
          "execution_count": 14
        }
      ]
    },
    {
      "cell_type": "markdown",
      "source": [
        "* Chọn 2 hàng đầu tiền và hiển thị chúng"
      ],
      "metadata": {
        "id": "AXyHsoZ1SMbC"
      }
    },
    {
      "cell_type": "code",
      "source": [
        "df.iloc[0:2]"
      ],
      "metadata": {
        "colab": {
          "base_uri": "https://localhost:8080/",
          "height": 112
        },
        "id": "Bp9hLZW6SQDb",
        "outputId": "735c43d9-dc46-42a2-ec2b-f97c8a1c8a94"
      },
      "execution_count": null,
      "outputs": [
        {
          "output_type": "execute_result",
          "data": {
            "text/plain": [
              "   ID   X   Y   Z\n",
              "0   1  78  84  86\n",
              "1   2  85  94  97"
            ],
            "text/html": [
              "\n",
              "  <div id=\"df-e4cdec1b-c37e-4a20-bcc4-0c9f28c1948b\">\n",
              "    <div class=\"colab-df-container\">\n",
              "      <div>\n",
              "<style scoped>\n",
              "    .dataframe tbody tr th:only-of-type {\n",
              "        vertical-align: middle;\n",
              "    }\n",
              "\n",
              "    .dataframe tbody tr th {\n",
              "        vertical-align: top;\n",
              "    }\n",
              "\n",
              "    .dataframe thead th {\n",
              "        text-align: right;\n",
              "    }\n",
              "</style>\n",
              "<table border=\"1\" class=\"dataframe\">\n",
              "  <thead>\n",
              "    <tr style=\"text-align: right;\">\n",
              "      <th></th>\n",
              "      <th>ID</th>\n",
              "      <th>X</th>\n",
              "      <th>Y</th>\n",
              "      <th>Z</th>\n",
              "    </tr>\n",
              "  </thead>\n",
              "  <tbody>\n",
              "    <tr>\n",
              "      <th>0</th>\n",
              "      <td>1</td>\n",
              "      <td>78</td>\n",
              "      <td>84</td>\n",
              "      <td>86</td>\n",
              "    </tr>\n",
              "    <tr>\n",
              "      <th>1</th>\n",
              "      <td>2</td>\n",
              "      <td>85</td>\n",
              "      <td>94</td>\n",
              "      <td>97</td>\n",
              "    </tr>\n",
              "  </tbody>\n",
              "</table>\n",
              "</div>\n",
              "      <button class=\"colab-df-convert\" onclick=\"convertToInteractive('df-e4cdec1b-c37e-4a20-bcc4-0c9f28c1948b')\"\n",
              "              title=\"Convert this dataframe to an interactive table.\"\n",
              "              style=\"display:none;\">\n",
              "        \n",
              "  <svg xmlns=\"http://www.w3.org/2000/svg\" height=\"24px\"viewBox=\"0 0 24 24\"\n",
              "       width=\"24px\">\n",
              "    <path d=\"M0 0h24v24H0V0z\" fill=\"none\"/>\n",
              "    <path d=\"M18.56 5.44l.94 2.06.94-2.06 2.06-.94-2.06-.94-.94-2.06-.94 2.06-2.06.94zm-11 1L8.5 8.5l.94-2.06 2.06-.94-2.06-.94L8.5 2.5l-.94 2.06-2.06.94zm10 10l.94 2.06.94-2.06 2.06-.94-2.06-.94-.94-2.06-.94 2.06-2.06.94z\"/><path d=\"M17.41 7.96l-1.37-1.37c-.4-.4-.92-.59-1.43-.59-.52 0-1.04.2-1.43.59L10.3 9.45l-7.72 7.72c-.78.78-.78 2.05 0 2.83L4 21.41c.39.39.9.59 1.41.59.51 0 1.02-.2 1.41-.59l7.78-7.78 2.81-2.81c.8-.78.8-2.07 0-2.86zM5.41 20L4 18.59l7.72-7.72 1.47 1.35L5.41 20z\"/>\n",
              "  </svg>\n",
              "      </button>\n",
              "      \n",
              "  <style>\n",
              "    .colab-df-container {\n",
              "      display:flex;\n",
              "      flex-wrap:wrap;\n",
              "      gap: 12px;\n",
              "    }\n",
              "\n",
              "    .colab-df-convert {\n",
              "      background-color: #E8F0FE;\n",
              "      border: none;\n",
              "      border-radius: 50%;\n",
              "      cursor: pointer;\n",
              "      display: none;\n",
              "      fill: #1967D2;\n",
              "      height: 32px;\n",
              "      padding: 0 0 0 0;\n",
              "      width: 32px;\n",
              "    }\n",
              "\n",
              "    .colab-df-convert:hover {\n",
              "      background-color: #E2EBFA;\n",
              "      box-shadow: 0px 1px 2px rgba(60, 64, 67, 0.3), 0px 1px 3px 1px rgba(60, 64, 67, 0.15);\n",
              "      fill: #174EA6;\n",
              "    }\n",
              "\n",
              "    [theme=dark] .colab-df-convert {\n",
              "      background-color: #3B4455;\n",
              "      fill: #D2E3FC;\n",
              "    }\n",
              "\n",
              "    [theme=dark] .colab-df-convert:hover {\n",
              "      background-color: #434B5C;\n",
              "      box-shadow: 0px 1px 3px 1px rgba(0, 0, 0, 0.15);\n",
              "      filter: drop-shadow(0px 1px 2px rgba(0, 0, 0, 0.3));\n",
              "      fill: #FFFFFF;\n",
              "    }\n",
              "  </style>\n",
              "\n",
              "      <script>\n",
              "        const buttonEl =\n",
              "          document.querySelector('#df-e4cdec1b-c37e-4a20-bcc4-0c9f28c1948b button.colab-df-convert');\n",
              "        buttonEl.style.display =\n",
              "          google.colab.kernel.accessAllowed ? 'block' : 'none';\n",
              "\n",
              "        async function convertToInteractive(key) {\n",
              "          const element = document.querySelector('#df-e4cdec1b-c37e-4a20-bcc4-0c9f28c1948b');\n",
              "          const dataTable =\n",
              "            await google.colab.kernel.invokeFunction('convertToInteractive',\n",
              "                                                     [key], {});\n",
              "          if (!dataTable) return;\n",
              "\n",
              "          const docLinkHtml = 'Like what you see? Visit the ' +\n",
              "            '<a target=\"_blank\" href=https://colab.research.google.com/notebooks/data_table.ipynb>data table notebook</a>'\n",
              "            + ' to learn more about interactive tables.';\n",
              "          element.innerHTML = '';\n",
              "          dataTable['output_type'] = 'display_data';\n",
              "          await google.colab.output.renderOutput(dataTable, element);\n",
              "          const docLink = document.createElement('div');\n",
              "          docLink.innerHTML = docLinkHtml;\n",
              "          element.appendChild(docLink);\n",
              "        }\n",
              "      </script>\n",
              "    </div>\n",
              "  </div>\n",
              "  "
            ]
          },
          "metadata": {},
          "execution_count": 15
        }
      ]
    },
    {
      "cell_type": "markdown",
      "source": [
        "* Hãy chọn một hàng dựa trên một điều kiện giá trị của cột"
      ],
      "metadata": {
        "id": "HScv6eZKSePE"
      }
    },
    {
      "cell_type": "code",
      "source": [
        "df[df.X==80]"
      ],
      "metadata": {
        "colab": {
          "base_uri": "https://localhost:8080/",
          "height": 81
        },
        "id": "H92spx-2SiO4",
        "outputId": "d0fce64d-b4d5-44e5-8cc7-64d5ff9b0ec8"
      },
      "execution_count": null,
      "outputs": [
        {
          "output_type": "execute_result",
          "data": {
            "text/plain": [
              "   ID   X   Y   Z\n",
              "2   3  80  83  73"
            ],
            "text/html": [
              "\n",
              "  <div id=\"df-96782bc3-2eb2-4b4e-8224-19c4f0b3081a\">\n",
              "    <div class=\"colab-df-container\">\n",
              "      <div>\n",
              "<style scoped>\n",
              "    .dataframe tbody tr th:only-of-type {\n",
              "        vertical-align: middle;\n",
              "    }\n",
              "\n",
              "    .dataframe tbody tr th {\n",
              "        vertical-align: top;\n",
              "    }\n",
              "\n",
              "    .dataframe thead th {\n",
              "        text-align: right;\n",
              "    }\n",
              "</style>\n",
              "<table border=\"1\" class=\"dataframe\">\n",
              "  <thead>\n",
              "    <tr style=\"text-align: right;\">\n",
              "      <th></th>\n",
              "      <th>ID</th>\n",
              "      <th>X</th>\n",
              "      <th>Y</th>\n",
              "      <th>Z</th>\n",
              "    </tr>\n",
              "  </thead>\n",
              "  <tbody>\n",
              "    <tr>\n",
              "      <th>2</th>\n",
              "      <td>3</td>\n",
              "      <td>80</td>\n",
              "      <td>83</td>\n",
              "      <td>73</td>\n",
              "    </tr>\n",
              "  </tbody>\n",
              "</table>\n",
              "</div>\n",
              "      <button class=\"colab-df-convert\" onclick=\"convertToInteractive('df-96782bc3-2eb2-4b4e-8224-19c4f0b3081a')\"\n",
              "              title=\"Convert this dataframe to an interactive table.\"\n",
              "              style=\"display:none;\">\n",
              "        \n",
              "  <svg xmlns=\"http://www.w3.org/2000/svg\" height=\"24px\"viewBox=\"0 0 24 24\"\n",
              "       width=\"24px\">\n",
              "    <path d=\"M0 0h24v24H0V0z\" fill=\"none\"/>\n",
              "    <path d=\"M18.56 5.44l.94 2.06.94-2.06 2.06-.94-2.06-.94-.94-2.06-.94 2.06-2.06.94zm-11 1L8.5 8.5l.94-2.06 2.06-.94-2.06-.94L8.5 2.5l-.94 2.06-2.06.94zm10 10l.94 2.06.94-2.06 2.06-.94-2.06-.94-.94-2.06-.94 2.06-2.06.94z\"/><path d=\"M17.41 7.96l-1.37-1.37c-.4-.4-.92-.59-1.43-.59-.52 0-1.04.2-1.43.59L10.3 9.45l-7.72 7.72c-.78.78-.78 2.05 0 2.83L4 21.41c.39.39.9.59 1.41.59.51 0 1.02-.2 1.41-.59l7.78-7.78 2.81-2.81c.8-.78.8-2.07 0-2.86zM5.41 20L4 18.59l7.72-7.72 1.47 1.35L5.41 20z\"/>\n",
              "  </svg>\n",
              "      </button>\n",
              "      \n",
              "  <style>\n",
              "    .colab-df-container {\n",
              "      display:flex;\n",
              "      flex-wrap:wrap;\n",
              "      gap: 12px;\n",
              "    }\n",
              "\n",
              "    .colab-df-convert {\n",
              "      background-color: #E8F0FE;\n",
              "      border: none;\n",
              "      border-radius: 50%;\n",
              "      cursor: pointer;\n",
              "      display: none;\n",
              "      fill: #1967D2;\n",
              "      height: 32px;\n",
              "      padding: 0 0 0 0;\n",
              "      width: 32px;\n",
              "    }\n",
              "\n",
              "    .colab-df-convert:hover {\n",
              "      background-color: #E2EBFA;\n",
              "      box-shadow: 0px 1px 2px rgba(60, 64, 67, 0.3), 0px 1px 3px 1px rgba(60, 64, 67, 0.15);\n",
              "      fill: #174EA6;\n",
              "    }\n",
              "\n",
              "    [theme=dark] .colab-df-convert {\n",
              "      background-color: #3B4455;\n",
              "      fill: #D2E3FC;\n",
              "    }\n",
              "\n",
              "    [theme=dark] .colab-df-convert:hover {\n",
              "      background-color: #434B5C;\n",
              "      box-shadow: 0px 1px 3px 1px rgba(0, 0, 0, 0.15);\n",
              "      filter: drop-shadow(0px 1px 2px rgba(0, 0, 0, 0.3));\n",
              "      fill: #FFFFFF;\n",
              "    }\n",
              "  </style>\n",
              "\n",
              "      <script>\n",
              "        const buttonEl =\n",
              "          document.querySelector('#df-96782bc3-2eb2-4b4e-8224-19c4f0b3081a button.colab-df-convert');\n",
              "        buttonEl.style.display =\n",
              "          google.colab.kernel.accessAllowed ? 'block' : 'none';\n",
              "\n",
              "        async function convertToInteractive(key) {\n",
              "          const element = document.querySelector('#df-96782bc3-2eb2-4b4e-8224-19c4f0b3081a');\n",
              "          const dataTable =\n",
              "            await google.colab.kernel.invokeFunction('convertToInteractive',\n",
              "                                                     [key], {});\n",
              "          if (!dataTable) return;\n",
              "\n",
              "          const docLinkHtml = 'Like what you see? Visit the ' +\n",
              "            '<a target=\"_blank\" href=https://colab.research.google.com/notebooks/data_table.ipynb>data table notebook</a>'\n",
              "            + ' to learn more about interactive tables.';\n",
              "          element.innerHTML = '';\n",
              "          dataTable['output_type'] = 'display_data';\n",
              "          await google.colab.output.renderOutput(dataTable, element);\n",
              "          const docLink = document.createElement('div');\n",
              "          docLink.innerHTML = docLinkHtml;\n",
              "          element.appendChild(docLink);\n",
              "        }\n",
              "      </script>\n",
              "    </div>\n",
              "  </div>\n",
              "  "
            ]
          },
          "metadata": {},
          "execution_count": 16
        }
      ]
    },
    {
      "cell_type": "markdown",
      "source": [
        "* Thay đổi một vài giá trị thành NaN ở CSV, sau đó đọc lên thành Dataframe và\n",
        "thay thế chúng bằng giá trị 0\n"
      ],
      "metadata": {
        "id": "zm_lK65-SvSK"
      }
    },
    {
      "cell_type": "code",
      "source": [
        "df_Nan = df\n",
        "df_Nan.loc[2, 'Z'] = np.nan # Replace some places with N/A values\n",
        "df_Nan.loc[3, 'Y'] = np.nan\n",
        "df_Nan.loc[4, 'Y'] = np.nan \n",
        "df_Nan.loc[2, 'X'] = np.nan\n",
        "print(df_Nan)"
      ],
      "metadata": {
        "colab": {
          "base_uri": "https://localhost:8080/"
        },
        "id": "tNTnbTS6S0As",
        "outputId": "42e26419-2227-4a95-cb49-ec61824f17d0"
      },
      "execution_count": null,
      "outputs": [
        {
          "output_type": "stream",
          "name": "stdout",
          "text": [
            "   ID     X     Y     Z\n",
            "0   1  78.0  84.0  86.0\n",
            "1   2  85.0  94.0  97.0\n",
            "2   3   NaN  83.0   NaN\n",
            "3   4  96.0   NaN  96.0\n",
            "4   5  86.0   NaN  83.0\n"
          ]
        }
      ]
    },
    {
      "cell_type": "code",
      "source": [
        "df_Nan.fillna(0) # Fill all N/A values with zero "
      ],
      "metadata": {
        "colab": {
          "base_uri": "https://localhost:8080/",
          "height": 206
        },
        "id": "xfYTGbbFTbYl",
        "outputId": "b403702f-1566-4f45-caa6-a54ea7d3cd52"
      },
      "execution_count": null,
      "outputs": [
        {
          "output_type": "execute_result",
          "data": {
            "text/plain": [
              "   ID     X     Y     Z\n",
              "0   1  78.0  84.0  86.0\n",
              "1   2  85.0  94.0  97.0\n",
              "2   3   0.0  83.0   0.0\n",
              "3   4  96.0   0.0  96.0\n",
              "4   5  86.0   0.0  83.0"
            ],
            "text/html": [
              "\n",
              "  <div id=\"df-b0d3a660-8e3d-4d48-9d53-c26baef97bd7\">\n",
              "    <div class=\"colab-df-container\">\n",
              "      <div>\n",
              "<style scoped>\n",
              "    .dataframe tbody tr th:only-of-type {\n",
              "        vertical-align: middle;\n",
              "    }\n",
              "\n",
              "    .dataframe tbody tr th {\n",
              "        vertical-align: top;\n",
              "    }\n",
              "\n",
              "    .dataframe thead th {\n",
              "        text-align: right;\n",
              "    }\n",
              "</style>\n",
              "<table border=\"1\" class=\"dataframe\">\n",
              "  <thead>\n",
              "    <tr style=\"text-align: right;\">\n",
              "      <th></th>\n",
              "      <th>ID</th>\n",
              "      <th>X</th>\n",
              "      <th>Y</th>\n",
              "      <th>Z</th>\n",
              "    </tr>\n",
              "  </thead>\n",
              "  <tbody>\n",
              "    <tr>\n",
              "      <th>0</th>\n",
              "      <td>1</td>\n",
              "      <td>78.0</td>\n",
              "      <td>84.0</td>\n",
              "      <td>86.0</td>\n",
              "    </tr>\n",
              "    <tr>\n",
              "      <th>1</th>\n",
              "      <td>2</td>\n",
              "      <td>85.0</td>\n",
              "      <td>94.0</td>\n",
              "      <td>97.0</td>\n",
              "    </tr>\n",
              "    <tr>\n",
              "      <th>2</th>\n",
              "      <td>3</td>\n",
              "      <td>0.0</td>\n",
              "      <td>83.0</td>\n",
              "      <td>0.0</td>\n",
              "    </tr>\n",
              "    <tr>\n",
              "      <th>3</th>\n",
              "      <td>4</td>\n",
              "      <td>96.0</td>\n",
              "      <td>0.0</td>\n",
              "      <td>96.0</td>\n",
              "    </tr>\n",
              "    <tr>\n",
              "      <th>4</th>\n",
              "      <td>5</td>\n",
              "      <td>86.0</td>\n",
              "      <td>0.0</td>\n",
              "      <td>83.0</td>\n",
              "    </tr>\n",
              "  </tbody>\n",
              "</table>\n",
              "</div>\n",
              "      <button class=\"colab-df-convert\" onclick=\"convertToInteractive('df-b0d3a660-8e3d-4d48-9d53-c26baef97bd7')\"\n",
              "              title=\"Convert this dataframe to an interactive table.\"\n",
              "              style=\"display:none;\">\n",
              "        \n",
              "  <svg xmlns=\"http://www.w3.org/2000/svg\" height=\"24px\"viewBox=\"0 0 24 24\"\n",
              "       width=\"24px\">\n",
              "    <path d=\"M0 0h24v24H0V0z\" fill=\"none\"/>\n",
              "    <path d=\"M18.56 5.44l.94 2.06.94-2.06 2.06-.94-2.06-.94-.94-2.06-.94 2.06-2.06.94zm-11 1L8.5 8.5l.94-2.06 2.06-.94-2.06-.94L8.5 2.5l-.94 2.06-2.06.94zm10 10l.94 2.06.94-2.06 2.06-.94-2.06-.94-.94-2.06-.94 2.06-2.06.94z\"/><path d=\"M17.41 7.96l-1.37-1.37c-.4-.4-.92-.59-1.43-.59-.52 0-1.04.2-1.43.59L10.3 9.45l-7.72 7.72c-.78.78-.78 2.05 0 2.83L4 21.41c.39.39.9.59 1.41.59.51 0 1.02-.2 1.41-.59l7.78-7.78 2.81-2.81c.8-.78.8-2.07 0-2.86zM5.41 20L4 18.59l7.72-7.72 1.47 1.35L5.41 20z\"/>\n",
              "  </svg>\n",
              "      </button>\n",
              "      \n",
              "  <style>\n",
              "    .colab-df-container {\n",
              "      display:flex;\n",
              "      flex-wrap:wrap;\n",
              "      gap: 12px;\n",
              "    }\n",
              "\n",
              "    .colab-df-convert {\n",
              "      background-color: #E8F0FE;\n",
              "      border: none;\n",
              "      border-radius: 50%;\n",
              "      cursor: pointer;\n",
              "      display: none;\n",
              "      fill: #1967D2;\n",
              "      height: 32px;\n",
              "      padding: 0 0 0 0;\n",
              "      width: 32px;\n",
              "    }\n",
              "\n",
              "    .colab-df-convert:hover {\n",
              "      background-color: #E2EBFA;\n",
              "      box-shadow: 0px 1px 2px rgba(60, 64, 67, 0.3), 0px 1px 3px 1px rgba(60, 64, 67, 0.15);\n",
              "      fill: #174EA6;\n",
              "    }\n",
              "\n",
              "    [theme=dark] .colab-df-convert {\n",
              "      background-color: #3B4455;\n",
              "      fill: #D2E3FC;\n",
              "    }\n",
              "\n",
              "    [theme=dark] .colab-df-convert:hover {\n",
              "      background-color: #434B5C;\n",
              "      box-shadow: 0px 1px 3px 1px rgba(0, 0, 0, 0.15);\n",
              "      filter: drop-shadow(0px 1px 2px rgba(0, 0, 0, 0.3));\n",
              "      fill: #FFFFFF;\n",
              "    }\n",
              "  </style>\n",
              "\n",
              "      <script>\n",
              "        const buttonEl =\n",
              "          document.querySelector('#df-b0d3a660-8e3d-4d48-9d53-c26baef97bd7 button.colab-df-convert');\n",
              "        buttonEl.style.display =\n",
              "          google.colab.kernel.accessAllowed ? 'block' : 'none';\n",
              "\n",
              "        async function convertToInteractive(key) {\n",
              "          const element = document.querySelector('#df-b0d3a660-8e3d-4d48-9d53-c26baef97bd7');\n",
              "          const dataTable =\n",
              "            await google.colab.kernel.invokeFunction('convertToInteractive',\n",
              "                                                     [key], {});\n",
              "          if (!dataTable) return;\n",
              "\n",
              "          const docLinkHtml = 'Like what you see? Visit the ' +\n",
              "            '<a target=\"_blank\" href=https://colab.research.google.com/notebooks/data_table.ipynb>data table notebook</a>'\n",
              "            + ' to learn more about interactive tables.';\n",
              "          element.innerHTML = '';\n",
              "          dataTable['output_type'] = 'display_data';\n",
              "          await google.colab.output.renderOutput(dataTable, element);\n",
              "          const docLink = document.createElement('div');\n",
              "          docLink.innerHTML = docLinkHtml;\n",
              "          element.appendChild(docLink);\n",
              "        }\n",
              "      </script>\n",
              "    </div>\n",
              "  </div>\n",
              "  "
            ]
          },
          "metadata": {},
          "execution_count": 18
        }
      ]
    },
    {
      "cell_type": "markdown",
      "source": [
        "* Ở cột Z chuyển giá trị lớn hơn 90 là True và nhỏ hơn là False trong Dataframe"
      ],
      "metadata": {
        "id": "0smhG_3-TfIj"
      }
    },
    {
      "cell_type": "code",
      "source": [
        "df.Z = (df.Z > 90)\n",
        "print(df)"
      ],
      "metadata": {
        "colab": {
          "base_uri": "https://localhost:8080/"
        },
        "id": "yOJFtr2STioA",
        "outputId": "4072ad4a-c356-4f69-e6df-c0995e43960c"
      },
      "execution_count": null,
      "outputs": [
        {
          "output_type": "stream",
          "name": "stdout",
          "text": [
            "   ID     X     Y      Z\n",
            "0   1  78.0  84.0  False\n",
            "1   2  85.0  94.0   True\n",
            "2   3   NaN  83.0  False\n",
            "3   4  96.0   NaN   True\n",
            "4   5  86.0   NaN  False\n"
          ]
        }
      ]
    },
    {
      "cell_type": "markdown",
      "source": [
        "* Chuyển Dataframe trên thành 2 Dataframe d1 và d2; d1 chứa cột X và Y, d2 chứa cột Z; cuối cùng d3 là thành quả của nối 2 Dataframe d1 và d2"
      ],
      "metadata": {
        "id": "hRgbKUhEUOMr"
      }
    },
    {
      "cell_type": "code",
      "source": [
        "d1 = pd.DataFrame(df, columns = ['X', 'Y'])\n",
        "d2 = pd.DataFrame(df, columns = ['Z'])\n",
        "d3 = pd.merge(d1, d2, left_index=True, right_index=True)\n",
        "print(d3)"
      ],
      "metadata": {
        "colab": {
          "base_uri": "https://localhost:8080/"
        },
        "id": "pBSltvbcUSfk",
        "outputId": "d8f58ce6-438f-4e04-e934-ebe128a96bbd"
      },
      "execution_count": null,
      "outputs": [
        {
          "output_type": "stream",
          "name": "stdout",
          "text": [
            "      X     Y      Z\n",
            "0  78.0  84.0  False\n",
            "1  85.0  94.0   True\n",
            "2   NaN  83.0  False\n",
            "3  96.0   NaN   True\n",
            "4  86.0   NaN  False\n"
          ]
        }
      ]
    },
    {
      "cell_type": "markdown",
      "source": [
        "* Dùng tính năng thống kê hãy hiển thị kết quả thông kể các giá trị thuộc tính\n",
        "của Dataframe"
      ],
      "metadata": {
        "id": "jL2GHyZbVrmF"
      }
    },
    {
      "cell_type": "code",
      "source": [
        "d3.describe()"
      ],
      "metadata": {
        "colab": {
          "base_uri": "https://localhost:8080/",
          "height": 300
        },
        "id": "qKhyK0tLVtYh",
        "outputId": "878b43f9-109e-415f-a2fe-ac457a49448a"
      },
      "execution_count": null,
      "outputs": [
        {
          "output_type": "execute_result",
          "data": {
            "text/plain": [
              "               X          Y\n",
              "count   4.000000   3.000000\n",
              "mean   86.250000  87.000000\n",
              "std     7.410578   6.082763\n",
              "min    78.000000  83.000000\n",
              "25%    83.250000  83.500000\n",
              "50%    85.500000  84.000000\n",
              "75%    88.500000  89.000000\n",
              "max    96.000000  94.000000"
            ],
            "text/html": [
              "\n",
              "  <div id=\"df-2700b922-ece5-49a5-ba17-e9e2c0bd78b9\">\n",
              "    <div class=\"colab-df-container\">\n",
              "      <div>\n",
              "<style scoped>\n",
              "    .dataframe tbody tr th:only-of-type {\n",
              "        vertical-align: middle;\n",
              "    }\n",
              "\n",
              "    .dataframe tbody tr th {\n",
              "        vertical-align: top;\n",
              "    }\n",
              "\n",
              "    .dataframe thead th {\n",
              "        text-align: right;\n",
              "    }\n",
              "</style>\n",
              "<table border=\"1\" class=\"dataframe\">\n",
              "  <thead>\n",
              "    <tr style=\"text-align: right;\">\n",
              "      <th></th>\n",
              "      <th>X</th>\n",
              "      <th>Y</th>\n",
              "    </tr>\n",
              "  </thead>\n",
              "  <tbody>\n",
              "    <tr>\n",
              "      <th>count</th>\n",
              "      <td>4.000000</td>\n",
              "      <td>3.000000</td>\n",
              "    </tr>\n",
              "    <tr>\n",
              "      <th>mean</th>\n",
              "      <td>86.250000</td>\n",
              "      <td>87.000000</td>\n",
              "    </tr>\n",
              "    <tr>\n",
              "      <th>std</th>\n",
              "      <td>7.410578</td>\n",
              "      <td>6.082763</td>\n",
              "    </tr>\n",
              "    <tr>\n",
              "      <th>min</th>\n",
              "      <td>78.000000</td>\n",
              "      <td>83.000000</td>\n",
              "    </tr>\n",
              "    <tr>\n",
              "      <th>25%</th>\n",
              "      <td>83.250000</td>\n",
              "      <td>83.500000</td>\n",
              "    </tr>\n",
              "    <tr>\n",
              "      <th>50%</th>\n",
              "      <td>85.500000</td>\n",
              "      <td>84.000000</td>\n",
              "    </tr>\n",
              "    <tr>\n",
              "      <th>75%</th>\n",
              "      <td>88.500000</td>\n",
              "      <td>89.000000</td>\n",
              "    </tr>\n",
              "    <tr>\n",
              "      <th>max</th>\n",
              "      <td>96.000000</td>\n",
              "      <td>94.000000</td>\n",
              "    </tr>\n",
              "  </tbody>\n",
              "</table>\n",
              "</div>\n",
              "      <button class=\"colab-df-convert\" onclick=\"convertToInteractive('df-2700b922-ece5-49a5-ba17-e9e2c0bd78b9')\"\n",
              "              title=\"Convert this dataframe to an interactive table.\"\n",
              "              style=\"display:none;\">\n",
              "        \n",
              "  <svg xmlns=\"http://www.w3.org/2000/svg\" height=\"24px\"viewBox=\"0 0 24 24\"\n",
              "       width=\"24px\">\n",
              "    <path d=\"M0 0h24v24H0V0z\" fill=\"none\"/>\n",
              "    <path d=\"M18.56 5.44l.94 2.06.94-2.06 2.06-.94-2.06-.94-.94-2.06-.94 2.06-2.06.94zm-11 1L8.5 8.5l.94-2.06 2.06-.94-2.06-.94L8.5 2.5l-.94 2.06-2.06.94zm10 10l.94 2.06.94-2.06 2.06-.94-2.06-.94-.94-2.06-.94 2.06-2.06.94z\"/><path d=\"M17.41 7.96l-1.37-1.37c-.4-.4-.92-.59-1.43-.59-.52 0-1.04.2-1.43.59L10.3 9.45l-7.72 7.72c-.78.78-.78 2.05 0 2.83L4 21.41c.39.39.9.59 1.41.59.51 0 1.02-.2 1.41-.59l7.78-7.78 2.81-2.81c.8-.78.8-2.07 0-2.86zM5.41 20L4 18.59l7.72-7.72 1.47 1.35L5.41 20z\"/>\n",
              "  </svg>\n",
              "      </button>\n",
              "      \n",
              "  <style>\n",
              "    .colab-df-container {\n",
              "      display:flex;\n",
              "      flex-wrap:wrap;\n",
              "      gap: 12px;\n",
              "    }\n",
              "\n",
              "    .colab-df-convert {\n",
              "      background-color: #E8F0FE;\n",
              "      border: none;\n",
              "      border-radius: 50%;\n",
              "      cursor: pointer;\n",
              "      display: none;\n",
              "      fill: #1967D2;\n",
              "      height: 32px;\n",
              "      padding: 0 0 0 0;\n",
              "      width: 32px;\n",
              "    }\n",
              "\n",
              "    .colab-df-convert:hover {\n",
              "      background-color: #E2EBFA;\n",
              "      box-shadow: 0px 1px 2px rgba(60, 64, 67, 0.3), 0px 1px 3px 1px rgba(60, 64, 67, 0.15);\n",
              "      fill: #174EA6;\n",
              "    }\n",
              "\n",
              "    [theme=dark] .colab-df-convert {\n",
              "      background-color: #3B4455;\n",
              "      fill: #D2E3FC;\n",
              "    }\n",
              "\n",
              "    [theme=dark] .colab-df-convert:hover {\n",
              "      background-color: #434B5C;\n",
              "      box-shadow: 0px 1px 3px 1px rgba(0, 0, 0, 0.15);\n",
              "      filter: drop-shadow(0px 1px 2px rgba(0, 0, 0, 0.3));\n",
              "      fill: #FFFFFF;\n",
              "    }\n",
              "  </style>\n",
              "\n",
              "      <script>\n",
              "        const buttonEl =\n",
              "          document.querySelector('#df-2700b922-ece5-49a5-ba17-e9e2c0bd78b9 button.colab-df-convert');\n",
              "        buttonEl.style.display =\n",
              "          google.colab.kernel.accessAllowed ? 'block' : 'none';\n",
              "\n",
              "        async function convertToInteractive(key) {\n",
              "          const element = document.querySelector('#df-2700b922-ece5-49a5-ba17-e9e2c0bd78b9');\n",
              "          const dataTable =\n",
              "            await google.colab.kernel.invokeFunction('convertToInteractive',\n",
              "                                                     [key], {});\n",
              "          if (!dataTable) return;\n",
              "\n",
              "          const docLinkHtml = 'Like what you see? Visit the ' +\n",
              "            '<a target=\"_blank\" href=https://colab.research.google.com/notebooks/data_table.ipynb>data table notebook</a>'\n",
              "            + ' to learn more about interactive tables.';\n",
              "          element.innerHTML = '';\n",
              "          dataTable['output_type'] = 'display_data';\n",
              "          await google.colab.output.renderOutput(dataTable, element);\n",
              "          const docLink = document.createElement('div');\n",
              "          docLink.innerHTML = docLinkHtml;\n",
              "          element.appendChild(docLink);\n",
              "        }\n",
              "      </script>\n",
              "    </div>\n",
              "  </div>\n",
              "  "
            ]
          },
          "metadata": {},
          "execution_count": 21
        }
      ]
    },
    {
      "cell_type": "markdown",
      "source": [],
      "metadata": {
        "id": "j04n1N9L5hXG"
      }
    },
    {
      "cell_type": "markdown",
      "source": [
        "### **3. Sinh viên tự tìm hiểu thực hiện lại ví dụ dùng mô hình Linear Regression trong thư viện scikit-learning bằng các thư viện sau:** bold text"
      ],
      "metadata": {
        "id": "LamIziR55iuG"
      }
    },
    {
      "cell_type": "markdown",
      "source": [
        "Tensorflow"
      ],
      "metadata": {
        "id": "ugFrbr5z5zWw"
      }
    },
    {
      "cell_type": "code",
      "source": [
        "import tensorflow as tf\n",
        "import numpy as np\n",
        "rng = np.random"
      ],
      "metadata": {
        "id": "hIXD1GWa5qPu"
      },
      "execution_count": null,
      "outputs": []
    },
    {
      "cell_type": "code",
      "source": [
        "# Parameters.\n",
        "learning_rate = 0.01\n",
        "training_steps = 1000\n",
        "display_step = 50"
      ],
      "metadata": {
        "id": "yDvK6wKz6B2P"
      },
      "execution_count": null,
      "outputs": []
    },
    {
      "cell_type": "code",
      "source": [
        "# Training Data.\n",
        "X = np.array([3.3,4.4,5.5,6.71,6.93,4.168,9.779,6.182,7.59,2.167,\n",
        "              7.042,10.791,5.313,7.997,5.654,9.27,3.1])\n",
        "Y = np.array([1.7,2.76,2.09,3.19,1.694,1.573,3.366,2.596,2.53,1.221,\n",
        "              2.827,3.465,1.65,2.904,2.42,2.94,1.3])"
      ],
      "metadata": {
        "id": "jkAhzt8P6C1s"
      },
      "execution_count": null,
      "outputs": []
    },
    {
      "cell_type": "code",
      "source": [
        "# Weight and Bias, initialized randomly.\n",
        "W = tf.Variable(rng.randn(), name=\"weight\")\n",
        "b = tf.Variable(rng.randn(), name=\"bias\")\n",
        "\n",
        "# Linear regression (Wx + b).\n",
        "def linear_regression(x):\n",
        "    return W * x + b\n",
        "\n",
        "# Mean square error.\n",
        "def mean_square(y_pred, y_true):\n",
        "    return tf.reduce_mean(tf.square(y_pred - y_true))\n",
        "\n",
        "# Stochastic Gradient Descent Optimizer.\n",
        "optimizer = tf.optimizers.SGD(learning_rate)"
      ],
      "metadata": {
        "id": "ytBz5Gxw6FyM"
      },
      "execution_count": null,
      "outputs": []
    },
    {
      "cell_type": "code",
      "source": [
        "# Optimization process. \n",
        "def run_optimization():\n",
        "    # Wrap computation inside a GradientTape for automatic differentiation.\n",
        "    with tf.GradientTape() as g:\n",
        "        pred = linear_regression(X)\n",
        "        loss = mean_square(pred, Y)\n",
        "\n",
        "    # Compute gradients.\n",
        "    gradients = g.gradient(loss, [W, b])\n",
        "    \n",
        "    # Update W and b following gradients.\n",
        "    optimizer.apply_gradients(zip(gradients, [W, b]))"
      ],
      "metadata": {
        "id": "c7rIyXQK6IKM"
      },
      "execution_count": null,
      "outputs": []
    },
    {
      "cell_type": "code",
      "source": [
        "# Run training for the given number of steps.\n",
        "for step in range(1, training_steps + 1):\n",
        "    # Run the optimization to update W and b values.\n",
        "    run_optimization()\n",
        "    \n",
        "    if step % display_step == 0:\n",
        "        pred = linear_regression(X)\n",
        "        loss = mean_square(pred, Y)\n",
        "        print(\"step: %i, loss: %f, W: %f, b: %f\" % (step, loss, W.numpy(), b.numpy()))"
      ],
      "metadata": {
        "id": "4xcXPp_w6KW9",
        "outputId": "83b1f083-b69b-4822-a80e-49431009215d",
        "colab": {
          "base_uri": "https://localhost:8080/"
        }
      },
      "execution_count": null,
      "outputs": [
        {
          "output_type": "stream",
          "name": "stdout",
          "text": [
            "step: 50, loss: 0.478532, W: 0.480062, b: -0.820647\n",
            "step: 100, loss: 0.408475, W: 0.453922, b: -0.635324\n",
            "step: 150, loss: 0.353534, W: 0.430773, b: -0.471209\n",
            "step: 200, loss: 0.310449, W: 0.410273, b: -0.325874\n",
            "step: 250, loss: 0.276660, W: 0.392119, b: -0.197171\n",
            "step: 300, loss: 0.250162, W: 0.376043, b: -0.083196\n",
            "step: 350, loss: 0.229382, W: 0.361806, b: 0.017736\n",
            "step: 400, loss: 0.213086, W: 0.349199, b: 0.107118\n",
            "step: 450, loss: 0.200306, W: 0.338034, b: 0.186272\n",
            "step: 500, loss: 0.190283, W: 0.328147, b: 0.256367\n",
            "step: 550, loss: 0.182424, W: 0.319391, b: 0.318441\n",
            "step: 600, loss: 0.176260, W: 0.311637, b: 0.373412\n",
            "step: 650, loss: 0.171426, W: 0.304771, b: 0.422091\n",
            "step: 700, loss: 0.167635, W: 0.298690, b: 0.465200\n",
            "step: 750, loss: 0.164662, W: 0.293305, b: 0.503376\n",
            "step: 800, loss: 0.162331, W: 0.288537, b: 0.537183\n",
            "step: 850, loss: 0.160503, W: 0.284314, b: 0.567122\n",
            "step: 900, loss: 0.159069, W: 0.280574, b: 0.593634\n",
            "step: 950, loss: 0.157944, W: 0.277263, b: 0.617113\n",
            "step: 1000, loss: 0.157063, W: 0.274330, b: 0.637904\n"
          ]
        }
      ]
    },
    {
      "cell_type": "markdown",
      "source": [
        "Keras"
      ],
      "metadata": {
        "id": "tsUH-QXx6Vf-"
      }
    },
    {
      "cell_type": "code",
      "source": [
        "import numpy as np \n",
        "from keras.models import Sequential\n",
        "from keras.layers.core import Dense, Activation\n",
        "from keras import optimizers\n",
        "\n",
        "# 1. create pseudo data y = 2*x0 + 3*x1 + 4\n",
        "X = np.random.rand(100, 2)\n",
        "y =  2* X[:,0] + 3 * X[:,1] + 4 + .2*np.random.randn(100) # noise added\n",
        "\n",
        "# 2. Build model \n",
        "model = Sequential([Dense(1, input_shape = (2,), activation='linear')])\n",
        "\n",
        "# 3. gradient descent optimizer and loss function \n",
        "sgd = optimizers.SGD(lr=0.1)\n",
        "model.compile(loss='mse', optimizer=sgd)\n",
        "\n",
        "# 4. Train the model \n",
        "model.fit(X, y, epochs=100, batch_size=2)"
      ],
      "metadata": {
        "id": "RqgPd3XQ6aJ3",
        "outputId": "b4afa4a7-9623-4c67-fdba-65cfdeab6732",
        "colab": {
          "base_uri": "https://localhost:8080/"
        }
      },
      "execution_count": null,
      "outputs": [
        {
          "output_type": "stream",
          "name": "stderr",
          "text": [
            "/usr/local/lib/python3.9/dist-packages/keras/optimizers/optimizer_v2/gradient_descent.py:114: UserWarning: The `lr` argument is deprecated, use `learning_rate` instead.\n",
            "  super().__init__(name, **kwargs)\n"
          ]
        },
        {
          "output_type": "stream",
          "name": "stdout",
          "text": [
            "Epoch 1/100\n",
            "50/50 [==============================] - 1s 4ms/step - loss: 1.9612\n",
            "Epoch 2/100\n",
            "50/50 [==============================] - 0s 4ms/step - loss: 0.0392\n",
            "Epoch 3/100\n",
            "50/50 [==============================] - 0s 3ms/step - loss: 0.0342\n",
            "Epoch 4/100\n",
            "50/50 [==============================] - 0s 3ms/step - loss: 0.0306\n",
            "Epoch 5/100\n",
            "50/50 [==============================] - 0s 5ms/step - loss: 0.0297\n",
            "Epoch 6/100\n",
            "50/50 [==============================] - 0s 5ms/step - loss: 0.0307\n",
            "Epoch 7/100\n",
            "50/50 [==============================] - 0s 3ms/step - loss: 0.0306\n",
            "Epoch 8/100\n",
            "50/50 [==============================] - 0s 3ms/step - loss: 0.0306\n",
            "Epoch 9/100\n",
            "50/50 [==============================] - 0s 3ms/step - loss: 0.0317\n",
            "Epoch 10/100\n",
            "50/50 [==============================] - 0s 3ms/step - loss: 0.0307\n",
            "Epoch 11/100\n",
            "50/50 [==============================] - 0s 2ms/step - loss: 0.0302\n",
            "Epoch 12/100\n",
            "50/50 [==============================] - 0s 2ms/step - loss: 0.0308\n",
            "Epoch 13/100\n",
            "50/50 [==============================] - 0s 2ms/step - loss: 0.0291\n",
            "Epoch 14/100\n",
            "50/50 [==============================] - 0s 5ms/step - loss: 0.0290\n",
            "Epoch 15/100\n",
            "50/50 [==============================] - 0s 3ms/step - loss: 0.0315\n",
            "Epoch 16/100\n",
            "50/50 [==============================] - 0s 4ms/step - loss: 0.0317\n",
            "Epoch 17/100\n",
            "50/50 [==============================] - 0s 3ms/step - loss: 0.0294\n",
            "Epoch 18/100\n",
            "50/50 [==============================] - 0s 4ms/step - loss: 0.0300\n",
            "Epoch 19/100\n",
            "50/50 [==============================] - 0s 3ms/step - loss: 0.0299\n",
            "Epoch 20/100\n",
            "50/50 [==============================] - 0s 2ms/step - loss: 0.0311\n",
            "Epoch 21/100\n",
            "50/50 [==============================] - 0s 2ms/step - loss: 0.0313\n",
            "Epoch 22/100\n",
            "50/50 [==============================] - 0s 1ms/step - loss: 0.0316\n",
            "Epoch 23/100\n",
            "50/50 [==============================] - 0s 2ms/step - loss: 0.0292\n",
            "Epoch 24/100\n",
            "50/50 [==============================] - 0s 1ms/step - loss: 0.0293\n",
            "Epoch 25/100\n",
            "50/50 [==============================] - 0s 1ms/step - loss: 0.0312\n",
            "Epoch 26/100\n",
            "50/50 [==============================] - 0s 1ms/step - loss: 0.0290\n",
            "Epoch 27/100\n",
            "50/50 [==============================] - 0s 1ms/step - loss: 0.0308\n",
            "Epoch 28/100\n",
            "50/50 [==============================] - 0s 2ms/step - loss: 0.0306\n",
            "Epoch 29/100\n",
            "50/50 [==============================] - 0s 1ms/step - loss: 0.0313\n",
            "Epoch 30/100\n",
            "50/50 [==============================] - 0s 1ms/step - loss: 0.0301\n",
            "Epoch 31/100\n",
            "50/50 [==============================] - 0s 2ms/step - loss: 0.0297\n",
            "Epoch 32/100\n",
            "50/50 [==============================] - 0s 1ms/step - loss: 0.0306\n",
            "Epoch 33/100\n",
            "50/50 [==============================] - 0s 2ms/step - loss: 0.0320\n",
            "Epoch 34/100\n",
            "50/50 [==============================] - 0s 1ms/step - loss: 0.0314\n",
            "Epoch 35/100\n",
            "50/50 [==============================] - 0s 2ms/step - loss: 0.0286\n",
            "Epoch 36/100\n",
            "50/50 [==============================] - 0s 1ms/step - loss: 0.0296\n",
            "Epoch 37/100\n",
            "50/50 [==============================] - 0s 1ms/step - loss: 0.0309\n",
            "Epoch 38/100\n",
            "50/50 [==============================] - 0s 1ms/step - loss: 0.0318\n",
            "Epoch 39/100\n",
            "50/50 [==============================] - 0s 2ms/step - loss: 0.0313\n",
            "Epoch 40/100\n",
            "50/50 [==============================] - 0s 1ms/step - loss: 0.0324\n",
            "Epoch 41/100\n",
            "50/50 [==============================] - 0s 1ms/step - loss: 0.0317\n",
            "Epoch 42/100\n",
            "50/50 [==============================] - 0s 1ms/step - loss: 0.0296\n",
            "Epoch 43/100\n",
            "50/50 [==============================] - 0s 1ms/step - loss: 0.0329\n",
            "Epoch 44/100\n",
            "50/50 [==============================] - 0s 1ms/step - loss: 0.0305\n",
            "Epoch 45/100\n",
            "50/50 [==============================] - 0s 2ms/step - loss: 0.0308\n",
            "Epoch 46/100\n",
            "50/50 [==============================] - 0s 1ms/step - loss: 0.0302\n",
            "Epoch 47/100\n",
            "50/50 [==============================] - 0s 1ms/step - loss: 0.0305\n",
            "Epoch 48/100\n",
            "50/50 [==============================] - 0s 1ms/step - loss: 0.0311\n",
            "Epoch 49/100\n",
            "50/50 [==============================] - 0s 1ms/step - loss: 0.0306\n",
            "Epoch 50/100\n",
            "50/50 [==============================] - 0s 2ms/step - loss: 0.0287\n",
            "Epoch 51/100\n",
            "50/50 [==============================] - 0s 2ms/step - loss: 0.0327\n",
            "Epoch 52/100\n",
            "50/50 [==============================] - 0s 1ms/step - loss: 0.0318\n",
            "Epoch 53/100\n",
            "50/50 [==============================] - 0s 2ms/step - loss: 0.0304\n",
            "Epoch 54/100\n",
            "50/50 [==============================] - 0s 2ms/step - loss: 0.0305\n",
            "Epoch 55/100\n",
            "50/50 [==============================] - 0s 1ms/step - loss: 0.0294\n",
            "Epoch 56/100\n",
            "50/50 [==============================] - 0s 1ms/step - loss: 0.0312\n",
            "Epoch 57/100\n",
            "50/50 [==============================] - 0s 2ms/step - loss: 0.0299\n",
            "Epoch 58/100\n",
            "50/50 [==============================] - 0s 1ms/step - loss: 0.0301\n",
            "Epoch 59/100\n",
            "50/50 [==============================] - 0s 1ms/step - loss: 0.0310\n",
            "Epoch 60/100\n",
            "50/50 [==============================] - 0s 1ms/step - loss: 0.0310\n",
            "Epoch 61/100\n",
            "50/50 [==============================] - 0s 2ms/step - loss: 0.0314\n",
            "Epoch 62/100\n",
            "50/50 [==============================] - 0s 1ms/step - loss: 0.0321\n",
            "Epoch 63/100\n",
            "50/50 [==============================] - 0s 2ms/step - loss: 0.0309\n",
            "Epoch 64/100\n",
            "50/50 [==============================] - 0s 1ms/step - loss: 0.0292\n",
            "Epoch 65/100\n",
            "50/50 [==============================] - 0s 2ms/step - loss: 0.0294\n",
            "Epoch 66/100\n",
            "50/50 [==============================] - 0s 1ms/step - loss: 0.0310\n",
            "Epoch 67/100\n",
            "50/50 [==============================] - 0s 2ms/step - loss: 0.0301\n",
            "Epoch 68/100\n",
            "50/50 [==============================] - 0s 1ms/step - loss: 0.0306\n",
            "Epoch 69/100\n",
            "50/50 [==============================] - 0s 2ms/step - loss: 0.0309\n",
            "Epoch 70/100\n",
            "50/50 [==============================] - 0s 1ms/step - loss: 0.0313\n",
            "Epoch 71/100\n",
            "50/50 [==============================] - 0s 2ms/step - loss: 0.0306\n",
            "Epoch 72/100\n",
            "50/50 [==============================] - 0s 2ms/step - loss: 0.0318\n",
            "Epoch 73/100\n",
            "50/50 [==============================] - 0s 2ms/step - loss: 0.0312\n",
            "Epoch 74/100\n",
            "50/50 [==============================] - 0s 2ms/step - loss: 0.0318\n",
            "Epoch 75/100\n",
            "50/50 [==============================] - 0s 2ms/step - loss: 0.0306\n",
            "Epoch 76/100\n",
            "50/50 [==============================] - 0s 2ms/step - loss: 0.0285\n",
            "Epoch 77/100\n",
            "50/50 [==============================] - 0s 2ms/step - loss: 0.0316\n",
            "Epoch 78/100\n",
            "50/50 [==============================] - 0s 2ms/step - loss: 0.0300\n",
            "Epoch 79/100\n",
            "50/50 [==============================] - 0s 2ms/step - loss: 0.0294\n",
            "Epoch 80/100\n",
            "50/50 [==============================] - 0s 2ms/step - loss: 0.0309\n",
            "Epoch 81/100\n",
            "50/50 [==============================] - 0s 2ms/step - loss: 0.0300\n",
            "Epoch 82/100\n",
            "50/50 [==============================] - 0s 2ms/step - loss: 0.0294\n",
            "Epoch 83/100\n",
            "50/50 [==============================] - 0s 2ms/step - loss: 0.0318\n",
            "Epoch 84/100\n",
            "50/50 [==============================] - 0s 2ms/step - loss: 0.0297\n",
            "Epoch 85/100\n",
            "50/50 [==============================] - 0s 3ms/step - loss: 0.0294\n",
            "Epoch 86/100\n",
            "50/50 [==============================] - 0s 2ms/step - loss: 0.0308\n",
            "Epoch 87/100\n",
            "50/50 [==============================] - 0s 4ms/step - loss: 0.0321\n",
            "Epoch 88/100\n",
            "50/50 [==============================] - 0s 3ms/step - loss: 0.0295\n",
            "Epoch 89/100\n",
            "50/50 [==============================] - 0s 3ms/step - loss: 0.0307\n",
            "Epoch 90/100\n",
            "50/50 [==============================] - 0s 4ms/step - loss: 0.0292\n",
            "Epoch 91/100\n",
            "50/50 [==============================] - 0s 5ms/step - loss: 0.0300\n",
            "Epoch 92/100\n",
            "50/50 [==============================] - 0s 3ms/step - loss: 0.0304\n",
            "Epoch 93/100\n",
            "50/50 [==============================] - 0s 3ms/step - loss: 0.0296\n",
            "Epoch 94/100\n",
            "50/50 [==============================] - 0s 3ms/step - loss: 0.0306\n",
            "Epoch 95/100\n",
            "50/50 [==============================] - 0s 4ms/step - loss: 0.0302\n",
            "Epoch 96/100\n",
            "50/50 [==============================] - 0s 3ms/step - loss: 0.0293\n",
            "Epoch 97/100\n",
            "50/50 [==============================] - 0s 2ms/step - loss: 0.0315\n",
            "Epoch 98/100\n",
            "50/50 [==============================] - 0s 2ms/step - loss: 0.0299\n",
            "Epoch 99/100\n",
            "50/50 [==============================] - 0s 2ms/step - loss: 0.0317\n",
            "Epoch 100/100\n",
            "50/50 [==============================] - 0s 2ms/step - loss: 0.0299\n"
          ]
        },
        {
          "output_type": "execute_result",
          "data": {
            "text/plain": [
              "<keras.callbacks.History at 0x7f78e2bd4df0>"
            ]
          },
          "metadata": {},
          "execution_count": 9
        }
      ]
    },
    {
      "cell_type": "code",
      "source": [
        "model.get_weights()"
      ],
      "metadata": {
        "id": "E6rBfH5L6kik",
        "outputId": "50619409-d21e-437d-a3d1-ab495cd2ffe9",
        "colab": {
          "base_uri": "https://localhost:8080/"
        }
      },
      "execution_count": null,
      "outputs": [
        {
          "output_type": "execute_result",
          "data": {
            "text/plain": [
              "[array([[1.9536649],\n",
              "        [3.035438 ]], dtype=float32), array([4.031311], dtype=float32)]"
            ]
          },
          "metadata": {},
          "execution_count": 10
        }
      ]
    },
    {
      "cell_type": "markdown",
      "source": [
        "Pytorch"
      ],
      "metadata": {
        "id": "s-j1JzK56fzt"
      }
    },
    {
      "cell_type": "code",
      "source": [
        "from torch.autograd import Variable\n",
        "import torch\n",
        "\n",
        "x_data = Variable(torch.Tensor([[3.0], [5.0], [7.0], [9.0], [11.0]]))\n",
        "y_data = Variable(torch.Tensor([[8.0], [9.1], [10.3], [11.4], [12.6]]))\n",
        "\n",
        "class LinearRegressionModel(torch.nn.Module):\n",
        " \n",
        "    def __init__(self):\n",
        "        super(LinearRegressionModel, self).__init__()\n",
        "        self.linear = torch.nn.Linear(1, 1)  # One in and one out\n",
        " \n",
        "    def forward(self, x):\n",
        "        y_pred = self.linear(x)\n",
        "        return y_pred\n",
        "\n",
        "our_model = LinearRegressionModel()\n",
        "\n",
        "criterion = torch.nn.MSELoss(reduction='sum')\n",
        "# optimizer = torch.optim.SGD(our_model.parameters(), lr = 0.01, weight_decay=0.9)"
      ],
      "metadata": {
        "id": "1BVvB8nC6eSC"
      },
      "execution_count": null,
      "outputs": []
    },
    {
      "cell_type": "code",
      "source": [
        "for epoch in range(100):\n",
        " \n",
        "    # Forward pass: Compute predicted y by passing\n",
        "    # x to the model\n",
        "    pred_y = our_model(x_data)\n",
        " \n",
        "    # Compute and print loss\n",
        "    loss = criterion(pred_y, y_data)\n",
        " \n",
        "    # Zero gradients, perform a backward pass,\n",
        "    # and update the weights.\n",
        "    # optimizer.zero_grad()\n",
        "    loss.backward()\n",
        "    # optimizer.step()\n",
        "    print('epoch {}, loss {}'.format(epoch, loss.item()))"
      ],
      "metadata": {
        "id": "bY14n3Ah6pDv",
        "outputId": "95c22e82-fcf6-44d5-b6d6-31a7bade855b",
        "colab": {
          "base_uri": "https://localhost:8080/"
        }
      },
      "execution_count": null,
      "outputs": [
        {
          "output_type": "stream",
          "name": "stdout",
          "text": [
            "epoch 0, loss 425.2756042480469\n",
            "epoch 1, loss 425.2756042480469\n",
            "epoch 2, loss 425.2756042480469\n",
            "epoch 3, loss 425.2756042480469\n",
            "epoch 4, loss 425.2756042480469\n",
            "epoch 5, loss 425.2756042480469\n",
            "epoch 6, loss 425.2756042480469\n",
            "epoch 7, loss 425.2756042480469\n",
            "epoch 8, loss 425.2756042480469\n",
            "epoch 9, loss 425.2756042480469\n",
            "epoch 10, loss 425.2756042480469\n",
            "epoch 11, loss 425.2756042480469\n",
            "epoch 12, loss 425.2756042480469\n",
            "epoch 13, loss 425.2756042480469\n",
            "epoch 14, loss 425.2756042480469\n",
            "epoch 15, loss 425.2756042480469\n",
            "epoch 16, loss 425.2756042480469\n",
            "epoch 17, loss 425.2756042480469\n",
            "epoch 18, loss 425.2756042480469\n",
            "epoch 19, loss 425.2756042480469\n",
            "epoch 20, loss 425.2756042480469\n",
            "epoch 21, loss 425.2756042480469\n",
            "epoch 22, loss 425.2756042480469\n",
            "epoch 23, loss 425.2756042480469\n",
            "epoch 24, loss 425.2756042480469\n",
            "epoch 25, loss 425.2756042480469\n",
            "epoch 26, loss 425.2756042480469\n",
            "epoch 27, loss 425.2756042480469\n",
            "epoch 28, loss 425.2756042480469\n",
            "epoch 29, loss 425.2756042480469\n",
            "epoch 30, loss 425.2756042480469\n",
            "epoch 31, loss 425.2756042480469\n",
            "epoch 32, loss 425.2756042480469\n",
            "epoch 33, loss 425.2756042480469\n",
            "epoch 34, loss 425.2756042480469\n",
            "epoch 35, loss 425.2756042480469\n",
            "epoch 36, loss 425.2756042480469\n",
            "epoch 37, loss 425.2756042480469\n",
            "epoch 38, loss 425.2756042480469\n",
            "epoch 39, loss 425.2756042480469\n",
            "epoch 40, loss 425.2756042480469\n",
            "epoch 41, loss 425.2756042480469\n",
            "epoch 42, loss 425.2756042480469\n",
            "epoch 43, loss 425.2756042480469\n",
            "epoch 44, loss 425.2756042480469\n",
            "epoch 45, loss 425.2756042480469\n",
            "epoch 46, loss 425.2756042480469\n",
            "epoch 47, loss 425.2756042480469\n",
            "epoch 48, loss 425.2756042480469\n",
            "epoch 49, loss 425.2756042480469\n",
            "epoch 50, loss 425.2756042480469\n",
            "epoch 51, loss 425.2756042480469\n",
            "epoch 52, loss 425.2756042480469\n",
            "epoch 53, loss 425.2756042480469\n",
            "epoch 54, loss 425.2756042480469\n",
            "epoch 55, loss 425.2756042480469\n",
            "epoch 56, loss 425.2756042480469\n",
            "epoch 57, loss 425.2756042480469\n",
            "epoch 58, loss 425.2756042480469\n",
            "epoch 59, loss 425.2756042480469\n",
            "epoch 60, loss 425.2756042480469\n",
            "epoch 61, loss 425.2756042480469\n",
            "epoch 62, loss 425.2756042480469\n",
            "epoch 63, loss 425.2756042480469\n",
            "epoch 64, loss 425.2756042480469\n",
            "epoch 65, loss 425.2756042480469\n",
            "epoch 66, loss 425.2756042480469\n",
            "epoch 67, loss 425.2756042480469\n",
            "epoch 68, loss 425.2756042480469\n",
            "epoch 69, loss 425.2756042480469\n",
            "epoch 70, loss 425.2756042480469\n",
            "epoch 71, loss 425.2756042480469\n",
            "epoch 72, loss 425.2756042480469\n",
            "epoch 73, loss 425.2756042480469\n",
            "epoch 74, loss 425.2756042480469\n",
            "epoch 75, loss 425.2756042480469\n",
            "epoch 76, loss 425.2756042480469\n",
            "epoch 77, loss 425.2756042480469\n",
            "epoch 78, loss 425.2756042480469\n",
            "epoch 79, loss 425.2756042480469\n",
            "epoch 80, loss 425.2756042480469\n",
            "epoch 81, loss 425.2756042480469\n",
            "epoch 82, loss 425.2756042480469\n",
            "epoch 83, loss 425.2756042480469\n",
            "epoch 84, loss 425.2756042480469\n",
            "epoch 85, loss 425.2756042480469\n",
            "epoch 86, loss 425.2756042480469\n",
            "epoch 87, loss 425.2756042480469\n",
            "epoch 88, loss 425.2756042480469\n",
            "epoch 89, loss 425.2756042480469\n",
            "epoch 90, loss 425.2756042480469\n",
            "epoch 91, loss 425.2756042480469\n",
            "epoch 92, loss 425.2756042480469\n",
            "epoch 93, loss 425.2756042480469\n",
            "epoch 94, loss 425.2756042480469\n",
            "epoch 95, loss 425.2756042480469\n",
            "epoch 96, loss 425.2756042480469\n",
            "epoch 97, loss 425.2756042480469\n",
            "epoch 98, loss 425.2756042480469\n",
            "epoch 99, loss 425.2756042480469\n"
          ]
        }
      ]
    },
    {
      "cell_type": "markdown",
      "source": [
        "# Câu 4: Sinh viên hoàn thành code phát hiện spam với SVMs và Linear regression"
      ],
      "metadata": {
        "id": "HvPMgSVezZIx"
      }
    },
    {
      "cell_type": "code",
      "source": [
        "from google.colab import drive\n",
        "drive.mount('/content/drive')"
      ],
      "metadata": {
        "id": "bcYAzLXZ7bWw",
        "outputId": "8c14833c-2b1e-4231-f8f6-d508834f1be3",
        "colab": {
          "base_uri": "https://localhost:8080/"
        }
      },
      "execution_count": null,
      "outputs": [
        {
          "output_type": "stream",
          "name": "stdout",
          "text": [
            "Drive already mounted at /content/drive; to attempt to forcibly remount, call drive.mount(\"/content/drive\", force_remount=True).\n"
          ]
        }
      ]
    },
    {
      "cell_type": "markdown",
      "source": [
        "* \n",
        "Running Example"
      ],
      "metadata": {
        "id": "9ku5nhON4eYV"
      }
    },
    {
      "cell_type": "code",
      "source": [
        "df = pd.read_csv('/content/drive/MyDrive/Machine Learning/sms_spam_perceptron.csv')\n",
        "y = df.iloc[:, 0].values\n",
        "y = np.where(y == 'spam', -1, 1)\n",
        "X = df.iloc[:, [1, 2]].values"
      ],
      "metadata": {
        "id": "Co39aQaK1bYW"
      },
      "execution_count": null,
      "outputs": []
    },
    {
      "cell_type": "code",
      "source": [
        "from sklearn.model_selection import train_test_split\n",
        "X_train, X_test, y_train, y_test = train_test_split(X, y, test_size=0.3, random_state=0)"
      ],
      "metadata": {
        "id": "wXrIGH-L23Lx"
      },
      "execution_count": null,
      "outputs": []
    },
    {
      "cell_type": "code",
      "source": [
        "from sklearn.linear_model import Perceptron\n",
        "p = Perceptron(max_iter=40, eta0=0.1, random_state=0)\n",
        "p.fit(X_train, y_train)"
      ],
      "metadata": {
        "colab": {
          "base_uri": "https://localhost:8080/",
          "height": 75
        },
        "id": "lS7zVpNd29yp",
        "outputId": "57874c99-fd86-4f01-81cb-f982748d5416"
      },
      "execution_count": null,
      "outputs": [
        {
          "output_type": "execute_result",
          "data": {
            "text/plain": [
              "Perceptron(eta0=0.1, max_iter=40)"
            ],
            "text/html": [
              "<style>#sk-container-id-1 {color: black;background-color: white;}#sk-container-id-1 pre{padding: 0;}#sk-container-id-1 div.sk-toggleable {background-color: white;}#sk-container-id-1 label.sk-toggleable__label {cursor: pointer;display: block;width: 100%;margin-bottom: 0;padding: 0.3em;box-sizing: border-box;text-align: center;}#sk-container-id-1 label.sk-toggleable__label-arrow:before {content: \"▸\";float: left;margin-right: 0.25em;color: #696969;}#sk-container-id-1 label.sk-toggleable__label-arrow:hover:before {color: black;}#sk-container-id-1 div.sk-estimator:hover label.sk-toggleable__label-arrow:before {color: black;}#sk-container-id-1 div.sk-toggleable__content {max-height: 0;max-width: 0;overflow: hidden;text-align: left;background-color: #f0f8ff;}#sk-container-id-1 div.sk-toggleable__content pre {margin: 0.2em;color: black;border-radius: 0.25em;background-color: #f0f8ff;}#sk-container-id-1 input.sk-toggleable__control:checked~div.sk-toggleable__content {max-height: 200px;max-width: 100%;overflow: auto;}#sk-container-id-1 input.sk-toggleable__control:checked~label.sk-toggleable__label-arrow:before {content: \"▾\";}#sk-container-id-1 div.sk-estimator input.sk-toggleable__control:checked~label.sk-toggleable__label {background-color: #d4ebff;}#sk-container-id-1 div.sk-label input.sk-toggleable__control:checked~label.sk-toggleable__label {background-color: #d4ebff;}#sk-container-id-1 input.sk-hidden--visually {border: 0;clip: rect(1px 1px 1px 1px);clip: rect(1px, 1px, 1px, 1px);height: 1px;margin: -1px;overflow: hidden;padding: 0;position: absolute;width: 1px;}#sk-container-id-1 div.sk-estimator {font-family: monospace;background-color: #f0f8ff;border: 1px dotted black;border-radius: 0.25em;box-sizing: border-box;margin-bottom: 0.5em;}#sk-container-id-1 div.sk-estimator:hover {background-color: #d4ebff;}#sk-container-id-1 div.sk-parallel-item::after {content: \"\";width: 100%;border-bottom: 1px solid gray;flex-grow: 1;}#sk-container-id-1 div.sk-label:hover label.sk-toggleable__label {background-color: #d4ebff;}#sk-container-id-1 div.sk-serial::before {content: \"\";position: absolute;border-left: 1px solid gray;box-sizing: border-box;top: 0;bottom: 0;left: 50%;z-index: 0;}#sk-container-id-1 div.sk-serial {display: flex;flex-direction: column;align-items: center;background-color: white;padding-right: 0.2em;padding-left: 0.2em;position: relative;}#sk-container-id-1 div.sk-item {position: relative;z-index: 1;}#sk-container-id-1 div.sk-parallel {display: flex;align-items: stretch;justify-content: center;background-color: white;position: relative;}#sk-container-id-1 div.sk-item::before, #sk-container-id-1 div.sk-parallel-item::before {content: \"\";position: absolute;border-left: 1px solid gray;box-sizing: border-box;top: 0;bottom: 0;left: 50%;z-index: -1;}#sk-container-id-1 div.sk-parallel-item {display: flex;flex-direction: column;z-index: 1;position: relative;background-color: white;}#sk-container-id-1 div.sk-parallel-item:first-child::after {align-self: flex-end;width: 50%;}#sk-container-id-1 div.sk-parallel-item:last-child::after {align-self: flex-start;width: 50%;}#sk-container-id-1 div.sk-parallel-item:only-child::after {width: 0;}#sk-container-id-1 div.sk-dashed-wrapped {border: 1px dashed gray;margin: 0 0.4em 0.5em 0.4em;box-sizing: border-box;padding-bottom: 0.4em;background-color: white;}#sk-container-id-1 div.sk-label label {font-family: monospace;font-weight: bold;display: inline-block;line-height: 1.2em;}#sk-container-id-1 div.sk-label-container {text-align: center;}#sk-container-id-1 div.sk-container {/* jupyter's `normalize.less` sets `[hidden] { display: none; }` but bootstrap.min.css set `[hidden] { display: none !important; }` so we also need the `!important` here to be able to override the default hidden behavior on the sphinx rendered scikit-learn.org. See: https://github.com/scikit-learn/scikit-learn/issues/21755 */display: inline-block !important;position: relative;}#sk-container-id-1 div.sk-text-repr-fallback {display: none;}</style><div id=\"sk-container-id-1\" class=\"sk-top-container\"><div class=\"sk-text-repr-fallback\"><pre>Perceptron(eta0=0.1, max_iter=40)</pre><b>In a Jupyter environment, please rerun this cell to show the HTML representation or trust the notebook. <br />On GitHub, the HTML representation is unable to render, please try loading this page with nbviewer.org.</b></div><div class=\"sk-container\" hidden><div class=\"sk-item\"><div class=\"sk-estimator sk-toggleable\"><input class=\"sk-toggleable__control sk-hidden--visually\" id=\"sk-estimator-id-1\" type=\"checkbox\" checked><label for=\"sk-estimator-id-1\" class=\"sk-toggleable__label sk-toggleable__label-arrow\">Perceptron</label><div class=\"sk-toggleable__content\"><pre>Perceptron(eta0=0.1, max_iter=40)</pre></div></div></div></div></div>"
            ]
          },
          "metadata": {},
          "execution_count": 29
        }
      ]
    },
    {
      "cell_type": "code",
      "source": [
        "y_pred = p.predict(X_test)"
      ],
      "metadata": {
        "id": "UT6VNXDy3HJ2"
      },
      "execution_count": null,
      "outputs": []
    },
    {
      "cell_type": "code",
      "source": [
        "from sklearn.metrics import accuracy_score\n",
        "print('Misclassified samples: %d' % (y_test != y_pred).sum())\n",
        "print('Accuracy: %.2f' % accuracy_score(y_test, y_pred))"
      ],
      "metadata": {
        "colab": {
          "base_uri": "https://localhost:8080/"
        },
        "id": "1jt1EQqU3Kxp",
        "outputId": "6d3c5d8a-e34b-40c4-85ae-22d0a5e3a9eb"
      },
      "execution_count": null,
      "outputs": [
        {
          "output_type": "stream",
          "name": "stdout",
          "text": [
            "Misclassified samples: 7\n",
            "Accuracy: 0.77\n"
          ]
        }
      ]
    },
    {
      "cell_type": "markdown",
      "source": [
        "* SVM"
      ],
      "metadata": {
        "id": "sIGUndRV5i_B"
      }
    },
    {
      "cell_type": "code",
      "source": [
        "from sklearn.svm import SVC\n",
        "from sklearn.metrics import accuracy_score\n",
        "\n",
        "df = pd.read_csv('/content/drive/MyDrive/Machine Learning/sms_spam_svm.csv')\n",
        "y = df.iloc[:, 0].values\n",
        "y = np.where(y == 'spam', -1, 1)\n",
        "X = df.iloc[:, [1, 2]].values\n",
        "\n",
        "X_train, X_test, y_train, y_test = train_test_split(X, y, test_size=0.3, random_state=0)\n",
        "\n",
        "svm = SVC(kernel='linear', C=1.0, random_state=0)\n",
        "svm.fit(X_train, y_train)\n",
        "X_pred = svm.predict(X_test)\n",
        "\n",
        "print('Misclassified samples: %d' % (y_test != X_pred).sum())\n",
        "print('Accuracy: %.2f' % accuracy_score(y_test, X_pred))"
      ],
      "metadata": {
        "colab": {
          "base_uri": "https://localhost:8080/"
        },
        "id": "LnRzn3Ad444M",
        "outputId": "956663b0-ffdf-437e-e40f-f340a93bf051"
      },
      "execution_count": null,
      "outputs": [
        {
          "output_type": "stream",
          "name": "stdout",
          "text": [
            "Misclassified samples: 7\n",
            "Accuracy: 0.84\n"
          ]
        }
      ]
    },
    {
      "cell_type": "markdown",
      "source": [
        "* Linear regression"
      ],
      "metadata": {
        "id": "AdkkNKLo_U1G"
      }
    },
    {
      "cell_type": "code",
      "source": [
        "import pandas as pd\n",
        "import numpy as np\n",
        "# from pylab import *\n",
        "from sklearn.linear_model import LinearRegression\n",
        "from sklearn.model_selection import train_test_split, cross_val_score\n",
        "\n",
        "df = pd.read_csv('sms_spam_svm.csv')\n",
        "y = df.iloc[:, 0].values\n",
        "y = np.where(y == 'spam', -1, 1)\n",
        "X = df.iloc[:, [1, 2]].values\n",
        "\n",
        "X_train, X_test, y_train, y_test = train_test_split(X, y, test_size=0.3, random_state=0)\n",
        "\n",
        "model = LinearRegression()\n",
        "model.fit(X_train, y_train)\n",
        "X_pred = model.predict(X_test)\n",
        "\n",
        "print('Misclassified samples: %d' % (y_test != X_pred).sum())"
      ],
      "metadata": {
        "colab": {
          "base_uri": "https://localhost:8080/"
        },
        "id": "LxQLbGWmbPi9",
        "outputId": "1a52066f-6855-4c1f-a369-69b5c6a540d4"
      },
      "execution_count": 10,
      "outputs": [
        {
          "output_type": "stream",
          "name": "stdout",
          "text": [
            "Misclassified samples: 45\n"
          ]
        }
      ]
    },
    {
      "cell_type": "markdown",
      "source": [
        "# Câu 6:Sinh viên hoàn thiện code Decision trees trên và đánh giá kết quả nhận được so với phương pháp Logistic regression."
      ],
      "metadata": {
        "id": "s_e9M-CgLCME"
      }
    },
    {
      "cell_type": "markdown",
      "source": [
        "* Logistic regression"
      ],
      "metadata": {
        "id": "CQxLREQ_4y49"
      }
    },
    {
      "cell_type": "code",
      "source": [
        "import pandas as pd\n",
        "import numpy as np\n",
        "from sklearn import *\n",
        "from sklearn.linear_model import LogisticRegression\n",
        "from sklearn.model_selection import train_test_split\n",
        "from sklearn.metrics import accuracy_score\n",
        "\n",
        "phishing_dataset = np.genfromtxt('/content/drive/MyDrive/ML/phishing_dataset.csv', delimiter=',', dtype=np.int32)\n",
        "samples = phishing_dataset[:,:-1]\n",
        "targets = phishing_dataset[:, -1]\n",
        "\n",
        "training_samples, testing_samples, training_targets, testing_targets = train_test_split( samples, targets, test_size=0.2, random_state=0)\n",
        "\n",
        "log_classifier = LogisticRegression()\n",
        "log_classifier.fit(training_samples, training_targets)\n",
        "\n",
        "predictions = log_classifier.predict(testing_samples)\n",
        "accuracy = 100.0 * accuracy_score(testing_targets, predictions)\n",
        "print (\"Logistic Regression accuracy: \" + str(accuracy))"
      ],
      "metadata": {
        "colab": {
          "base_uri": "https://localhost:8080/"
        },
        "id": "01_5Q6CaLnjn",
        "outputId": "e42f3640-1874-4b95-addd-5f41bdfb5d93"
      },
      "execution_count": null,
      "outputs": [
        {
          "output_type": "stream",
          "name": "stdout",
          "text": [
            "Logistic Regression accuracy: 91.67797376752601\n"
          ]
        }
      ]
    },
    {
      "cell_type": "markdown",
      "source": [
        "* Decision Tree"
      ],
      "metadata": {
        "id": "PUojseG65KjR"
      }
    },
    {
      "cell_type": "code",
      "source": [
        "from sklearn import tree \n",
        "\n",
        "phishing_dataset = np.genfromtxt('/content/drive/MyDrive/ML/phishing_dataset.csv', delimiter=',', dtype=np.int32)\n",
        "samples = phishing_dataset[:,:-1]\n",
        "targets = phishing_dataset[:, -1]\n",
        "\n",
        "training_samples, testing_samples, training_target, testing_target = train_test_split( samples, targets, test_size=0.2, random_state=0)\n",
        "\n",
        "tree_classifier = tree.DecisionTreeClassifier()\n",
        "tree_classifier.fit(training_samples, training_target)\n",
        "\n",
        "predictions = tree_classifier.predict(testing_samples)\n",
        "accuracy = 100.0 * accuracy_score(testing_target, predictions)\n",
        "print(\"Decision Tree accuracy: %s\" % str(accuracy))"
      ],
      "metadata": {
        "colab": {
          "base_uri": "https://localhost:8080/"
        },
        "id": "jhG9-3ipLKk8",
        "outputId": "c589eb6f-116b-43a6-ba0c-941e86020678"
      },
      "execution_count": null,
      "outputs": [
        {
          "output_type": "stream",
          "name": "stdout",
          "text": [
            "Decision Tree accuracy: 96.29127091813659\n"
          ]
        }
      ]
    },
    {
      "cell_type": "markdown",
      "source": [
        "### **7. Sinh viên thực hiện code phát hiện phising website bằng mô hình học máy Logistic regression và Decision trees với train và test trên tập dữ liệu** "
      ],
      "metadata": {
        "id": "lG3BzbGN61-U"
      }
    },
    {
      "cell_type": "markdown",
      "source": [
        "Logistic Regression\n",
        "\n"
      ],
      "metadata": {
        "id": "7pCPVi1n7tbN"
      }
    },
    {
      "cell_type": "code",
      "source": [
        "import numpy as np\n",
        "import pandas as pd\n",
        "\n",
        "data = pd.read_csv(\"/content/drive/MyDrive/Machine Learning/Phishing_Legitimate_full.csv\")\n",
        "\n",
        "#Convert data\n",
        "float_cols = data.select_dtypes('float64').columns\n",
        "for c in float_cols:\n",
        "    data[c] = data[c].astype('float32')\n",
        "    \n",
        "int_cols = data.select_dtypes('int64').columns\n",
        "for c in int_cols:\n",
        "    data[c] = data[c].astype('int32')\n",
        "\n",
        "data.rename(columns={'CLASS_LABEL': 'labels'}, inplace=True)\n",
        "\n",
        "# Phân loại thông tin để tìm mối tương qua giữa tuyến tính và phi tuyến tính của các labels và feature\n",
        "from sklearn.feature_selection import mutual_info_classif\n",
        "X = data.drop(['id', 'labels'], axis=1)\n",
        "y = data['labels']\n",
        "discrete_features = X.dtypes == int\n",
        "mi_scores = mutual_info_classif(X, y, discrete_features=discrete_features)\n",
        "mi_scores = pd.Series(mi_scores, name='MI Scores', index=X.columns)\n",
        "mi_scores = mi_scores.sort_values(ascending=False)\n",
        "\n",
        "# Dùng LogisticRegression\n",
        "# Chia data thành các tập và kiểm tra\n",
        "from sklearn.model_selection import train_test_split\n",
        "X_train, X_test, y_train, y_test = train_test_split(X, y, test_size=0.5, random_state=50)\n",
        "\n",
        "# Tiêu chuẩn hóa data\n",
        "from sklearn.preprocessing import StandardScaler\n",
        "scaler = StandardScaler()\n",
        "X_train = scaler.fit_transform(X_train)\n",
        "X_test = scaler.transform(X_test)\n",
        "\n",
        "# Xác dịnh mô hình của Logistic Regression\n",
        "def sigmoid(z):\n",
        "    return 1 / (1 + np.exp(-z))\n",
        "\n",
        "def loss(y_true, y_pred):\n",
        "    return (-y_true * np.log(y_pred) - (1 - y_true) * np.log(1 - y_pred)).mean()\n",
        "\n",
        "def gradient(X, y, weights):\n",
        "    z = np.dot(X, weights)\n",
        "    y_pred = sigmoid(z)\n",
        "    gradient = np.dot(X.T, (y_pred - y)) / y.size\n",
        "    return gradient\n",
        "\n",
        "def train(X_train, y_train, X_test, y_test, learning_rate, epochs):\n",
        "    # Khởi tạo weights\n",
        "    weights = np.zeros(X_train.shape[1])\n",
        "    \n",
        "    # Mô hình huấn luyện sẽ như sau\n",
        "    for i in range(epochs):\n",
        "        # Tính grad \n",
        "        grad = gradient(X_train, y_train, weights)\n",
        "        \n",
        "        # Cập nhật weights\n",
        "        weights -= learning_rate * grad\n",
        "        \n",
        "        # Đánh giá mô hình trên tập huấn luyện và kiểm tra\n",
        "        train_loss = loss(y_train, sigmoid(np.dot(X_train, weights)))\n",
        "        test_loss = loss(y_test, sigmoid(np.dot(X_test, weights)))\n",
        "        print(f\"Epoch {i + 1}/{epochs}, train loss: {train_loss:.4f}, test loss: {test_loss:.4f}\")\n",
        "    \n",
        "    return weights\n",
        "\n",
        "# Train mô hình logistic regression \n",
        "learning_rate = 0.5\n",
        "epochs = 50\n",
        "weights = train(X_train, y_train, X_test, y_test, learning_rate, epochs)\n",
        "\n",
        "# Dự đoán trên tập kiểm tra\n",
        "y_pred = sigmoid(np.dot(X_test, weights))\n",
        "y_pred_binary = np.where(y_pred >= 0.5, 1, 0)\n",
        "\n",
        "# Đánh giá sự chính xác của mô hình\n",
        "from sklearn.metrics import accuracy_score\n",
        "accuracy = accuracy_score(y_test, y_pred_binary)\n",
        "print(\"accuracy:\", accuracy)"
      ],
      "metadata": {
        "id": "a76awAVn69Ar",
        "outputId": "2796b0a8-644f-4300-9db0-76cb6a33065d",
        "colab": {
          "base_uri": "https://localhost:8080/"
        }
      },
      "execution_count": null,
      "outputs": [
        {
          "output_type": "stream",
          "name": "stdout",
          "text": [
            "Epoch 1/50, train loss: 0.5195, test loss: 0.5213\n",
            "Epoch 2/50, train loss: 0.4395, test loss: 0.4413\n",
            "Epoch 3/50, train loss: 0.3927, test loss: 0.3941\n",
            "Epoch 4/50, train loss: 0.3613, test loss: 0.3625\n",
            "Epoch 5/50, train loss: 0.3386, test loss: 0.3395\n",
            "Epoch 6/50, train loss: 0.3213, test loss: 0.3219\n",
            "Epoch 7/50, train loss: 0.3075, test loss: 0.3079\n",
            "Epoch 8/50, train loss: 0.2963, test loss: 0.2965\n",
            "Epoch 9/50, train loss: 0.2869, test loss: 0.2869\n",
            "Epoch 10/50, train loss: 0.2789, test loss: 0.2788\n",
            "Epoch 11/50, train loss: 0.2720, test loss: 0.2718\n",
            "Epoch 12/50, train loss: 0.2659, test loss: 0.2656\n",
            "Epoch 13/50, train loss: 0.2606, test loss: 0.2602\n",
            "Epoch 14/50, train loss: 0.2559, test loss: 0.2554\n",
            "Epoch 15/50, train loss: 0.2516, test loss: 0.2511\n",
            "Epoch 16/50, train loss: 0.2478, test loss: 0.2472\n",
            "Epoch 17/50, train loss: 0.2443, test loss: 0.2437\n",
            "Epoch 18/50, train loss: 0.2411, test loss: 0.2404\n",
            "Epoch 19/50, train loss: 0.2382, test loss: 0.2375\n",
            "Epoch 20/50, train loss: 0.2355, test loss: 0.2347\n",
            "Epoch 21/50, train loss: 0.2330, test loss: 0.2322\n",
            "Epoch 22/50, train loss: 0.2307, test loss: 0.2299\n",
            "Epoch 23/50, train loss: 0.2285, test loss: 0.2277\n",
            "Epoch 24/50, train loss: 0.2265, test loss: 0.2257\n",
            "Epoch 25/50, train loss: 0.2246, test loss: 0.2238\n",
            "Epoch 26/50, train loss: 0.2228, test loss: 0.2220\n",
            "Epoch 27/50, train loss: 0.2212, test loss: 0.2203\n",
            "Epoch 28/50, train loss: 0.2196, test loss: 0.2187\n",
            "Epoch 29/50, train loss: 0.2181, test loss: 0.2172\n",
            "Epoch 30/50, train loss: 0.2167, test loss: 0.2158\n",
            "Epoch 31/50, train loss: 0.2154, test loss: 0.2145\n",
            "Epoch 32/50, train loss: 0.2141, test loss: 0.2132\n",
            "Epoch 33/50, train loss: 0.2129, test loss: 0.2120\n",
            "Epoch 34/50, train loss: 0.2117, test loss: 0.2109\n",
            "Epoch 35/50, train loss: 0.2106, test loss: 0.2098\n",
            "Epoch 36/50, train loss: 0.2096, test loss: 0.2087\n",
            "Epoch 37/50, train loss: 0.2086, test loss: 0.2077\n",
            "Epoch 38/50, train loss: 0.2076, test loss: 0.2068\n",
            "Epoch 39/50, train loss: 0.2067, test loss: 0.2059\n",
            "Epoch 40/50, train loss: 0.2058, test loss: 0.2050\n",
            "Epoch 41/50, train loss: 0.2050, test loss: 0.2042\n",
            "Epoch 42/50, train loss: 0.2042, test loss: 0.2034\n",
            "Epoch 43/50, train loss: 0.2034, test loss: 0.2026\n",
            "Epoch 44/50, train loss: 0.2026, test loss: 0.2018\n",
            "Epoch 45/50, train loss: 0.2019, test loss: 0.2011\n",
            "Epoch 46/50, train loss: 0.2012, test loss: 0.2004\n",
            "Epoch 47/50, train loss: 0.2005, test loss: 0.1998\n",
            "Epoch 48/50, train loss: 0.1998, test loss: 0.1991\n",
            "Epoch 49/50, train loss: 0.1992, test loss: 0.1985\n",
            "Epoch 50/50, train loss: 0.1986, test loss: 0.1979\n",
            "accuracy: 0.934\n"
          ]
        }
      ]
    },
    {
      "cell_type": "markdown",
      "source": [
        "Decision Tree"
      ],
      "metadata": {
        "id": "9Z31OX0p74wz"
      }
    },
    {
      "cell_type": "code",
      "source": [
        "import numpy as np\n",
        "import pandas as pd\n",
        "\n",
        "data = pd.read_csv(\"/content/drive/MyDrive/Machine Learning/Phishing_Legitimate_full.csv\")\n",
        "\n",
        "# Convert data\n",
        "float_cols = data.select_dtypes('float64').columns\n",
        "for c in float_cols:\n",
        "    data[c] = data[c].astype('float32')\n",
        "\n",
        "int_cols = data.select_dtypes('int64').columns\n",
        "for c in int_cols:\n",
        "    data[c] = data[c].astype('int32')\n",
        "\n",
        "data.rename(columns={'CLASS_LABEL': 'labels'}, inplace=True)\n",
        "\n",
        "#  Phân loại thông tin để tìm mối tương qua giữa tuyến tính và phi tuyến tính của các labels và feature\n",
        "from sklearn.feature_selection import mutual_info_classif\n",
        "\n",
        "X = data.drop(['id', 'labels'], axis=1)\n",
        "y = data['labels']\n",
        "discrete_features = X.dtypes == int\n",
        "mi_scores = mutual_info_classif(X, y, discrete_features=discrete_features)\n",
        "mi_scores = pd.Series(mi_scores, name='MI Scores', index=X.columns)\n",
        "mi_scores = mi_scores.sort_values(ascending=False)\n",
        "\n",
        "class Node:\n",
        "    def __init__(self, feature_idx=None, threshold=None, left=None, right=None, value=None):\n",
        "        self.feature_idx = feature_idx # index của feature\n",
        "        self.threshold = threshold     # Ngưỡng của việc phân chua\n",
        "        self.left = left               # cây con bên phải\n",
        "        self.right = right             # cây con bên trái\n",
        "        self.value = value             # giá trị của node lá\n",
        "\n",
        "class DecisionTree:\n",
        "    def __init__(self, max_depth=10):\n",
        "        self.max_depth = max_depth\n",
        "        self.root = None\n",
        "\n",
        "    def fit(self, X, y):\n",
        "        self.root = self.build_tree(X, y, self.max_depth) # xây dựng decision tree\n",
        "\n",
        "    def predict(self, X):\n",
        "      # duyệt qua cây\n",
        "        return np.array([self.traverse(x, self.root) for x in X])\n",
        "\n",
        "    def traverse(self, x, node):\n",
        "      # kiểm tra nếu node hiện tại là node lá\n",
        "        if node.value is not None:\n",
        "      # nếu đúng thì return về class dự đoán của label\n",
        "            return node.value\n",
        "      # hệ số của feature\n",
        "        elif x[node.feature_idx] < node.threshold:\n",
        "      # đi theo nhánh bên trái của cây\n",
        "            return self.traverse(x, node.left)\n",
        "        else:\n",
        "      # đi theo nhánh bên phải của cây\n",
        "            return self.traverse(x, node.right)\n",
        "\n",
        "    def build_tree(self, X, y, max_depth, min_samples_leaf=1):\n",
        "      # dừng nếu đạt đến độ sâu tối đa hoặc tất cả các labels đều giống nhau\n",
        "        if max_depth == 0 or len(np.unique(y)) == 1 or len(X) < min_samples_leaf:\n",
        "            leaf_value = np.bincount(y).argmax()\n",
        "            return Node(value=leaf_value)\n",
        "      # tìm feature và ngưỡng tốt nhất để split\n",
        "        feature_idx, threshold = self.find_best_split(X, y)\n",
        "      # dừng lại nếu không có sự phân chia nào cải thiện được thông tin\n",
        "        if feature_idx is None or threshold is None:\n",
        "            leaf_value = np.bincount(y).argmax()\n",
        "            return Node(value=leaf_value)\n",
        "      # chia data dựa trên feature và ngưỡng tìm được\n",
        "        left_indices = X[:, feature_idx] < threshold\n",
        "        right_indices = X[:, feature_idx] >= threshold\n",
        "        left_X, left_y = X[left_indices], y[left_indices]\n",
        "        right_X, right_y = X[right_indices], y[right_indices]\n",
        "      # Xây dựng tính đệ quy cho cây con trái và phải\n",
        "        left_subtree = self.build_tree(left_X, left_y, max_depth-1, min_samples_leaf)\n",
        "        right_subtree = self.build_tree(right_X, right_y, max_depth-1, min_samples_leaf)\n",
        "      # trả về nút gốc của cây con\n",
        "        return Node(feature_idx=feature_idx, threshold=threshold, left=left_subtree, right=right_subtree)\n",
        "\n",
        "    def find_best_split(self, X, y):\n",
        "      # tìm số lượng feature trong ma trận của feature\n",
        "        n_features = X.shape[1]\n",
        "        best_feature_idx, best_threshold, best_info_gain = None, None, -1\n",
        "        parent_entropy = self.entropy(y)\n",
        "      # Lặp lại từng feature và từng ngưỡng để tìm ra sự phân chia tốt nhất\n",
        "        for feature_idx in range(n_features):\n",
        "            feature_values = X[:, feature_idx]\n",
        "            thresholds = np.unique(feature_values)\n",
        "            for threshold in thresholds:\n",
        "                left_indices = feature_values < threshold\n",
        "                right_indices = feature_values >= threshold\n",
        "                left_y, right_y = y[left_indices], y[right_indices]\n",
        "\n",
        "                child_entropy = (len(left_y) * self.entropy(left_y) + len(right_y) * self.entropy(right_y)) / len(y)\n",
        "                info_gain = parent_entropy - child_entropy\n",
        "      # Cập nhật feature, ngưỡng và sự tăng lên của thông tin nếu sự phân chia hiện tại tốt hơn\n",
        "                if info_gain > best_info_gain:\n",
        "                    best_feature_idx, best_threshold, best_info_gain = feature_idx, threshold, info_gain\n",
        "\n",
        "        return best_feature_idx, best_threshold\n",
        "    # Tính entropy của 1 bộ nhãn\n",
        "    def entropy(self, y):\n",
        "        _, counts = np.unique(y, return_counts=True)\n",
        "        probabilities = counts / len(y)\n",
        "        return -np.sum(probabilities * np.log2(probabilities))\n",
        "\n",
        "# Train test split\n",
        "X_train, X_test, y_train, y_test = train_test_split(X.values, y.values, test_size=0.5, random_state=50)\n",
        "\n",
        "# Train decision tree\n",
        "dt = DecisionTree(max_depth=10)\n",
        "dt.fit(X_train, y_train)\n",
        "\n",
        "# Tạo prediction\n",
        "y_pred = dt.predict(X_test)\n",
        "\n",
        "# Tính accuracy\n",
        "accuracy = np.sum(y_pred == y_test) / len(y_test)\n",
        "print(\"accuracy:\", accuracy)"
      ],
      "metadata": {
        "id": "SzuePFR6786v",
        "outputId": "7d27874e-682e-4036-a08f-a16e53a921d3",
        "colab": {
          "base_uri": "https://localhost:8080/"
        }
      },
      "execution_count": null,
      "outputs": [
        {
          "output_type": "stream",
          "name": "stdout",
          "text": [
            "accuracy: 0.9644\n"
          ]
        }
      ]
    },
    {
      "cell_type": "markdown",
      "metadata": {
        "id": "QbCNRwuEIcOc"
      },
      "source": [
        "# Câu 8: Sinh viên thực hiện code phát hiện phising website bằng mô hình học máy Logistic regression hoặc Decision trees với train và test trên tập dữ liệu phishtank\\"
      ]
    },
    {
      "cell_type": "code",
      "source": [
        "pip install tldextract"
      ],
      "metadata": {
        "colab": {
          "base_uri": "https://localhost:8080/"
        },
        "id": "bdliLhjB0FS_",
        "outputId": "4ca42e87-ca31-4c4d-d148-ce13bc6731af"
      },
      "execution_count": null,
      "outputs": [
        {
          "output_type": "stream",
          "name": "stdout",
          "text": [
            "Looking in indexes: https://pypi.org/simple, https://us-python.pkg.dev/colab-wheels/public/simple/\n",
            "Collecting tldextract\n",
            "  Downloading tldextract-3.4.0-py3-none-any.whl (93 kB)\n",
            "\u001b[2K     \u001b[90m━━━━━━━━━━━━━━━━━━━━━━━━━━━━━━━━━━━━━━━━\u001b[0m \u001b[32m93.9/93.9 KB\u001b[0m \u001b[31m5.0 MB/s\u001b[0m eta \u001b[36m0:00:00\u001b[0m\n",
            "\u001b[?25hRequirement already satisfied: filelock>=3.0.8 in /usr/local/lib/python3.9/dist-packages (from tldextract) (3.10.2)\n",
            "Requirement already satisfied: idna in /usr/local/lib/python3.9/dist-packages (from tldextract) (3.4)\n",
            "Collecting requests-file>=1.4\n",
            "  Downloading requests_file-1.5.1-py2.py3-none-any.whl (3.7 kB)\n",
            "Requirement already satisfied: requests>=2.1.0 in /usr/local/lib/python3.9/dist-packages (from tldextract) (2.27.1)\n",
            "Requirement already satisfied: certifi>=2017.4.17 in /usr/local/lib/python3.9/dist-packages (from requests>=2.1.0->tldextract) (2022.12.7)\n",
            "Requirement already satisfied: urllib3<1.27,>=1.21.1 in /usr/local/lib/python3.9/dist-packages (from requests>=2.1.0->tldextract) (1.26.15)\n",
            "Requirement already satisfied: charset-normalizer~=2.0.0 in /usr/local/lib/python3.9/dist-packages (from requests>=2.1.0->tldextract) (2.0.12)\n",
            "Requirement already satisfied: six in /usr/local/lib/python3.9/dist-packages (from requests-file>=1.4->tldextract) (1.16.0)\n",
            "Installing collected packages: requests-file, tldextract\n",
            "Successfully installed requests-file-1.5.1 tldextract-3.4.0\n"
          ]
        }
      ]
    },
    {
      "cell_type": "code",
      "source": [
        "pip install python-whois"
      ],
      "metadata": {
        "colab": {
          "base_uri": "https://localhost:8080/"
        },
        "id": "UC8ml5XC0ID-",
        "outputId": "a1c324b3-b6f9-4351-fb38-38926ec08b76"
      },
      "execution_count": null,
      "outputs": [
        {
          "metadata": {
            "tags": null
          },
          "name": "stdout",
          "output_type": "stream",
          "text": [
            "Looking in indexes: https://pypi.org/simple, https://us-python.pkg.dev/colab-wheels/public/simple/\n",
            "Collecting python-whois\n",
            "  Downloading python-whois-0.8.0.tar.gz (109 kB)\n",
            "\u001b[?25l     \u001b[90m━━━━━━━━━━━━━━━━━━━━━━━━━━━━━━━━━━━━━━━━\u001b[0m \u001b[32m0.0/109.6 KB\u001b[0m \u001b[31m?\u001b[0m eta \u001b[36m-:--:--\u001b[0m\r\u001b[2K     \u001b[90m━━━━━━━━━━━━━━━━━━━━━━━━━━━━━━━━━━━━━━━\u001b[0m \u001b[32m109.6/109.6 KB\u001b[0m \u001b[31m5.1 MB/s\u001b[0m eta \u001b[36m0:00:00\u001b[0m\n",
            "\u001b[?25h  Preparing metadata (setup.py) ... \u001b[?25l\u001b[?25hdone\n",
            "Requirement already satisfied: future in /usr/local/lib/python3.9/dist-packages (from python-whois) (0.18.3)\n",
            "Building wheels for collected packages: python-whois\n",
            "  Building wheel for python-whois (setup.py) ... \u001b[?25l\u001b[?25hdone\n",
            "  Created wheel for python-whois: filename=python_whois-0.8.0-py3-none-any.whl size=103262 sha256=506f71d6295bd6fb33bf91a3f19b25f8a973d844645a8bead4da1eb0f86bb144\n",
            "  Stored in directory: /root/.cache/pip/wheels/e6/e9/d3/1e41a6c95b398de12c5a332ff28805aa44e68aa317ea60266d\n",
            "Successfully built python-whois\n",
            "Installing collected packages: python-whois\n",
            "Successfully installed python-whois-0.8.0\n"
          ]
        }
      ]
    },
    {
      "cell_type": "code",
      "source": [
        "pip install cross-validition"
      ],
      "metadata": {
        "id": "Ad8YHTVY0Lbn"
      },
      "execution_count": null,
      "outputs": []
    },
    {
      "cell_type": "code",
      "source": [
        "import os\n",
        "import sys\n",
        "import re\n",
        "import matplotlib\n",
        "import pandas as pd\n",
        "import numpy as np\n",
        "from os.path import splitext\n",
        "import ipaddress as ip\n",
        "import tldextract\n",
        "import whois\n",
        "import datetime\n",
        "from urllib.parse import urlparse\n",
        "df = pd.read_csv(\"/content/drive/MyDrive/Machine Learning/verified_online.csv\")\n",
        "#df=df.sample(frac=1)\n",
        "df = df.sample(frac=1).reset_index(drop=True)\n",
        "df.head()\n",
        "len(df)\n",
        "#2016's top most suspicious TLD and words\n",
        "Suspicious_TLD=['zip','cricket','link','work','party','gq','kim','country','science','tk']\n",
        "Suspicious_Domain=['luckytime.co.kr','mattfoll.eu.interia.pl','trafficholder.com','dl.baixaki.com.br','bembed.redtube.comr','tags.expo9.exponential.com','deepspacer.com','funad.co.kr','trafficconverter.biz']\n",
        "#trend micro's top malicious domains \n",
        "def countdots(url):  \n",
        "    return url.count('.')\n",
        "def countdelim(url):\n",
        "    count = 0\n",
        "    delim=[';','_','?','=','&']\n",
        "    for each in url:\n",
        "        if each in delim:\n",
        "            count = count + 1\n",
        "    return count\n",
        "import ipaddress as ip #works only in python 3\n",
        "\n",
        "def isip(uri):\n",
        "    try:\n",
        "        if ip.ip_address(uri):\n",
        "            return 1\n",
        "    except:\n",
        "        return 0\n",
        "def isPresentHyphen(url):\n",
        "    return url.count('-')\n",
        "def isPresentAt(url):\n",
        "    return url.count('@')\n",
        "def isPresentDSlash(url):\n",
        "    return url.count('//')\n",
        "def countSubDir(url):\n",
        "    return url.count('/')\n",
        "def get_ext(url):\n",
        "    \"\"\"Return the filename extension from url, or ''.\"\"\"\n",
        "    \n",
        "    root, ext = splitext(url)\n",
        "    return ext\n",
        "def countSubDomain(subdomain):\n",
        "    if not subdomain:\n",
        "        return 0\n",
        "    else:\n",
        "        return len(subdomain.split('.'))\n",
        "def countQueries(query):\n",
        "    if not query:\n",
        "        return 0\n",
        "    else:\n",
        "        return len(query.split('&'))\n",
        "featureSet = pd.DataFrame(columns=('url','no of dots','presence of hyphen','len of url','presence of at',\\\n",
        "'presence of double slash','no of subdir','no of subdomain','len of domain','no of queries','is IP','presence of Suspicious_TLD',\\\n",
        "'presence of suspicious domain','create_age(months)','expiry_age(months)','update_age(days)','country','file extension','label'))\n",
        "\n",
        "featureSet = pd.DataFrame(columns=('url','no of dots','presence of hyphen','len of url','presence of at',\\\n",
        "'presence of double slash','no of subdir','no of subdomain','len of domain','no of queries','is IP','presence of Suspicious_TLD',\\\n",
        "'presence of suspicious domain','label'))\n",
        "\n",
        "from urllib.parse import urlparse\n",
        "import tldextract\n",
        "def getFeatures(url, label): \n",
        "    result = []\n",
        "    url = str(url)\n",
        "    \n",
        "    #add the url to feature set\n",
        "    result.append(url)\n",
        "    \n",
        "    #parse the URL and extract the domain information\n",
        "    path = urlparse(url)\n",
        "    ext = tldextract.extract(url)\n",
        "    \n",
        "    #counting number of dots in subdomain    \n",
        "    result.append(countdots(ext.subdomain))\n",
        "    \n",
        "    #checking hyphen in domain   \n",
        "    result.append(isPresentHyphen(path.netloc))\n",
        "    \n",
        "    #length of URL    \n",
        "    result.append(len(url))\n",
        "    \n",
        "    #checking @ in the url    \n",
        "    result.append(isPresentAt(path.netloc))\n",
        "    \n",
        "    #checking presence of double slash    \n",
        "    result.append(isPresentDSlash(path.path))\n",
        "    \n",
        "    #Count number of subdir    \n",
        "    result.append(countSubDir(path.path))\n",
        "    \n",
        "    #number of sub domain    \n",
        "    result.append(countSubDomain(ext.subdomain))\n",
        "    \n",
        "    #length of domain name    \n",
        "    result.append(len(path.netloc))\n",
        "    \n",
        "    #count number of queries    \n",
        "    result.append(len(path.query))\n",
        "    \n",
        "    #Adding domain information\n",
        "    \n",
        "    #if IP address is being used as a URL     \n",
        "    result.append(isip(ext.domain))\n",
        "    \n",
        "    #presence of Suspicious_TLD\n",
        "    result.append(1 if ext.suffix in Suspicious_TLD else 0)\n",
        "    \n",
        "    #presence of suspicious domain\n",
        "    result.append(1 if '.'.join(ext[1:]) in Suspicious_Domain else 0 )\n",
        "  \n",
        "    #result.append(get_ext(path.path))\n",
        "    result.append(str(label))\n",
        "    return result\n",
        "                  \n",
        "    #Yay! finally done!  \n",
        "for i in range(len(df)):\n",
        "   features = getFeatures(df[\"url\"].loc[i], df[\"target\"].loc[i])    \n",
        "   featureSet.loc[i] = features \n",
        "   featureSet.head()\n",
        "   featureSet.groupby(featureSet['label']).size()\n",
        "from sklearn import tree\n",
        "from sklearn.tree import DecisionTreeClassifier\n",
        "import sklearn.ensemble as ek\n",
        "from sklearn.model_selection import train_test_split\n",
        "from sklearn import tree, linear_model\n",
        "from sklearn.feature_selection import SelectFromModel\n",
        "import sklearn.externals\n",
        "import joblib\n",
        "from sklearn.naive_bayes import GaussianNB\n",
        "from sklearn.metrics import confusion_matrix\n",
        "from sklearn.pipeline import make_pipeline\n",
        "from sklearn import preprocessing\n",
        "from sklearn import svm\n",
        "from sklearn.linear_model import LogisticRegression\n",
        "from sklearn.model_selection import cross_val_score\n",
        "X = featureSet.drop(['url','label'],axis=1).values\n",
        "y = featureSet['label'].values\n",
        "model = { \"DecisionTree\":tree.DecisionTreeClassifier(max_depth=10),\n",
        "         \"RandomForest\":ek.RandomForestClassifier(n_estimators=50),\n",
        "         \"Adaboost\":ek.AdaBoostClassifier(n_estimators=50),\n",
        "         \"GradientBoosting\":ek.GradientBoostingClassifier(n_estimators=50),\n",
        "         \"GNB\":GaussianNB(),\n",
        "         \"LogisticRegression\":LogisticRegression()   \n",
        "}\n",
        "X_train, X_test, y_train, y_test =train_test_split(X, y ,test_size=0.2)\n",
        "results = {}\n",
        "for algo in model:\n",
        "    clf = model[algo]\n",
        "    clf.fit(X_train,y_train)\n",
        "    score = clf.score(X_test,y_test)\n",
        "    print (\"%s : %s \" %(algo, score))\n",
        "    results[algo] = score   "
      ],
      "metadata": {
        "colab": {
          "base_uri": "https://localhost:8080/"
        },
        "id": "eVB3wNOf0Q7A",
        "outputId": "ece7994a-abd3-4846-9a95-4100f4b69065"
      },
      "execution_count": null,
      "outputs": [
        {
          "output_type": "stream",
          "name": "stdout",
          "text": [
            "DecisionTree : 0.9129965669445806 \n",
            "RandomForest : 0.91417361451692 \n",
            "Adaboost : 0.8976949485041688 \n"
          ]
        }
      ]
    }
  ]
}